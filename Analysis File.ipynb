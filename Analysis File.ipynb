{
 "cells": [
  {
   "cell_type": "code",
   "execution_count": 1,
   "metadata": {
    "collapsed": true
   },
   "outputs": [],
   "source": [
    "import pandas as pd\n",
    "import matplotlib.pyplot as plt\n",
    "import os.path"
   ]
  },
  {
   "cell_type": "code",
   "execution_count": 2,
   "metadata": {
    "scrolled": false
   },
   "outputs": [
    {
     "ename": "NameError",
     "evalue": "name 'pd' is not defined",
     "output_type": "error",
     "traceback": [
      "\u001b[0;31m---------------------------------------------------------------------------\u001b[0m",
      "\u001b[0;31mNameError\u001b[0m                                 Traceback (most recent call last)",
      "\u001b[0;32m<ipython-input-2-92723490ab8c>\u001b[0m in \u001b[0;36m<module>\u001b[0;34m()\u001b[0m\n\u001b[1;32m     72\u001b[0m     \u001b[0mc\u001b[0m \u001b[0;34m=\u001b[0m \u001b[0mnames\u001b[0m\u001b[0;34m[\u001b[0m\u001b[0mindex\u001b[0m\u001b[0;34m]\u001b[0m\u001b[0;34m\u001b[0m\u001b[0m\n\u001b[1;32m     73\u001b[0m     \u001b[0mvalid_data\u001b[0m \u001b[0;34m=\u001b[0m \u001b[0mnames\u001b[0m\u001b[0;34m[\u001b[0m\u001b[0mindex\u001b[0m \u001b[0;34m+\u001b[0m \u001b[0;36m1\u001b[0m\u001b[0;34m]\u001b[0m\u001b[0;34m\u001b[0m\u001b[0m\n\u001b[0;32m---> 74\u001b[0;31m     \u001b[0mplotGraphs\u001b[0m\u001b[0;34m(\u001b[0m\u001b[0;36m0.7\u001b[0m\u001b[0;34m,\u001b[0m \u001b[0mc\u001b[0m\u001b[0;34m,\u001b[0m \u001b[0mpercentage_array\u001b[0m\u001b[0;34m,\u001b[0m \u001b[0;32mTrue\u001b[0m\u001b[0;34m)\u001b[0m\u001b[0;34m\u001b[0m\u001b[0m\n\u001b[0m\u001b[1;32m     75\u001b[0m     \u001b[0mplotGraphs\u001b[0m\u001b[0;34m(\u001b[0m\u001b[0;36m0.7\u001b[0m\u001b[0;34m,\u001b[0m \u001b[0mc\u001b[0m\u001b[0;34m,\u001b[0m \u001b[0mpercentage_array\u001b[0m\u001b[0;34m,\u001b[0m \u001b[0;32mFalse\u001b[0m\u001b[0;34m)\u001b[0m\u001b[0;34m\u001b[0m\u001b[0m\n\u001b[1;32m     76\u001b[0m     \u001b[0mplotGraphs\u001b[0m\u001b[0;34m(\u001b[0m\u001b[0;36m0.7\u001b[0m\u001b[0;34m,\u001b[0m \u001b[0mc\u001b[0m\u001b[0;34m,\u001b[0m \u001b[0mpercentage_array\u001b[0m\u001b[0;34m,\u001b[0m \u001b[0;32mTrue\u001b[0m\u001b[0;34m,\u001b[0m \u001b[0mvalid_data\u001b[0m\u001b[0;34m)\u001b[0m\u001b[0;34m\u001b[0m\u001b[0m\n",
      "\u001b[0;32m<ipython-input-2-92723490ab8c>\u001b[0m in \u001b[0;36mplotGraphs\u001b[0;34m(data_Percentage, data_Name, percentage_Array, isGP, crossData)\u001b[0m\n\u001b[1;32m     19\u001b[0m             \u001b[0;32mif\u001b[0m \u001b[0mpercent\u001b[0m \u001b[0;34m!=\u001b[0m \u001b[0;36m1\u001b[0m\u001b[0;34m:\u001b[0m\u001b[0;34m\u001b[0m\u001b[0m\n\u001b[1;32m     20\u001b[0m                 \u001b[0mfilename\u001b[0m \u001b[0;34m=\u001b[0m \u001b[0;34m\"OUTPUT/\"\u001b[0m \u001b[0;34m+\u001b[0m \u001b[0mdata_Name\u001b[0m \u001b[0;34m+\u001b[0m \u001b[0;34m\"/\"\u001b[0m \u001b[0;34m+\u001b[0m \u001b[0mstr\u001b[0m\u001b[0;34m(\u001b[0m\u001b[0mdata_Percentage\u001b[0m\u001b[0;34m)\u001b[0m \u001b[0;34m+\u001b[0m \u001b[0;34m\"_\"\u001b[0m \u001b[0;34m+\u001b[0m \u001b[0mstr\u001b[0m\u001b[0;34m(\u001b[0m\u001b[0mpercent\u001b[0m\u001b[0;34m)\u001b[0m                \u001b[0;34m+\u001b[0m \u001b[0;34m\"/\"\u001b[0m \u001b[0;34m+\u001b[0m \u001b[0mprefix\u001b[0m \u001b[0;34m+\u001b[0m \u001b[0;34m\"_\"\u001b[0m \u001b[0;34m+\u001b[0m \u001b[0mstr\u001b[0m\u001b[0;34m(\u001b[0m\u001b[0mdata_Percentage\u001b[0m\u001b[0;34m)\u001b[0m \u001b[0;34m+\u001b[0m \u001b[0;34m\"_\"\u001b[0m \u001b[0;34m+\u001b[0m \u001b[0mstr\u001b[0m\u001b[0;34m(\u001b[0m\u001b[0mpercent\u001b[0m\u001b[0;34m)\u001b[0m \u001b[0;34m+\u001b[0m \u001b[0;34m\".csv\"\u001b[0m\u001b[0;34m\u001b[0m\u001b[0m\n\u001b[0;32m---> 21\u001b[0;31m                 \u001b[0mdf\u001b[0m \u001b[0;34m=\u001b[0m \u001b[0mpd\u001b[0m\u001b[0;34m.\u001b[0m\u001b[0mread_csv\u001b[0m\u001b[0;34m(\u001b[0m\u001b[0mfilename\u001b[0m\u001b[0;34m)\u001b[0m\u001b[0;34m\u001b[0m\u001b[0m\n\u001b[0m\u001b[1;32m     22\u001b[0m \u001b[0;34m\u001b[0m\u001b[0m\n\u001b[1;32m     23\u001b[0m             \u001b[0;32melse\u001b[0m\u001b[0;34m:\u001b[0m\u001b[0;34m\u001b[0m\u001b[0m\n",
      "\u001b[0;31mNameError\u001b[0m: name 'pd' is not defined"
     ]
    }
   ],
   "source": [
    "def summarizeDataframe(df):\n",
    "    sa = df.columns.values\n",
    "    for string in df.columns.values:\n",
    "        print(string + \": \" + str(df[string].median()))\n",
    "\n",
    "\n",
    "percentage_array = [0.1, 0.2, 0.35, 0.5, 0.75, 1.0]\n",
    "def plotGraphs(data_Percentage, data_Name, percentage_Array, isGP, crossData=None):\n",
    "    xs = percentage_Array\n",
    "    fmeasures = []\n",
    "    precisions = []\n",
    "    recalls = []\n",
    "    \n",
    "    prefix = \"GP\" if isGP else \"Random\"\n",
    "    \n",
    "    for percent in percentage_Array:\n",
    "        if crossData == None:\n",
    "            df = None\n",
    "            if percent != 1:\n",
    "                filename = \"OUTPUT/\" + data_Name + \"/\" + str(data_Percentage) + \"_\" + str(percent)\\\n",
    "                + \"/\" + prefix + \"_\" + str(data_Percentage) + \"_\" + str(percent) + \".csv\"\n",
    "                df = pd.read_csv(filename)\n",
    "\n",
    "            else:\n",
    "                filename = \"OUTPUT/\" + data_Name + \"/\" + str(data_Percentage) + \"_1.0/Baseline_\"\\\n",
    "                + str(data_Percentage) + \"_1.0.csv\"\n",
    "                df = pd.read_csv(filename)\n",
    "            \n",
    "        else:\n",
    "            df = None\n",
    "            if percent != 1:\n",
    "                ## GP_ant-1.7_0.7_0.35.csv\n",
    "                filename = \"OUTPUT/\" + data_Name + \"/\" + str(data_Percentage) + \"_\" + str(percent) +\\\n",
    "                \"/\" + prefix + \"_\" + crossData  + \"_\" + str(data_Percentage) + \"_\" + str(percent) + \".csv\"\n",
    "            else:\n",
    "                filename  = \"OUTPUT/\" + data_Name + \"/\" + str(data_Percentage) + \"_\" + str(percent)\\\n",
    "                + \"/Baseline_\" + crossData  + \"_\" + str(data_Percentage) + \"_\" + str(percent) + \".csv\"\n",
    "            if os.path.isfile(filename):\n",
    "                df = pd.read_csv(filename)\n",
    "        if type(df) != type(None):\n",
    "            fmeasures.append(df[\"F1\"].median())\n",
    "            precisions.append(df[\"Precision\"].median())\n",
    "            recalls.append(df[\"Recall\"].median())\n",
    "            \n",
    "    if len(fmeasures) > 0:\n",
    "        print(\"F1\")\n",
    "        print(fmeasures)\n",
    "        \n",
    "        print(\"Precision\")\n",
    "        print(precisions)\n",
    "        \n",
    "        print(\"Recalls\")\n",
    "        print(recalls)\n",
    "        plt.plot(xs,fmeasures, label=\"F1\")\n",
    "        plt.plot(xs,precisions, label=\"Precisions\")\n",
    "        plt.plot(xs,recalls,label=\"Recalls\")\n",
    "        plt.xlabel(\"Percentage of Training Data used to train \" + prefix)\n",
    "        title = prefix + \"_\" + data_Name\n",
    "        if crossData != None:\n",
    "            title += \" validated against \" + crossData\n",
    "        else:\n",
    "            title += \" tested against 30% of \" + data_Name + \" data\"\n",
    "        plt.title(title)\n",
    "        plt.axis((0,1,0,1))\n",
    "        plt.legend()\n",
    "        plt.show()\n",
    "\n",
    "\n",
    "names = [\"ant-1.5\", \"ant-1.6\", \"camel-1.0\", \"camel-1.2\", \"ivy-1.1\",\"jedit-4.1\", \"jedit-4.2\",\n",
    "         \"jedit-4.3\", \"log4j-1.0\", \"log4j-1.1\", \"log4j-1.2\", \"lucene-2.0\", \"lucene-2.2\", \"lucene-2.4\",\n",
    "         \"poi-2.0\", \"poi-2.5\", \"poi-3.0\", \"synapse-1.0\", \"synapse-1.1\", \"synapse-1.2\",\"velocity-1.4\",\n",
    "         \"velocity-1.5\", \"velocity-1.6\", \"xerces-1.1\", \"xerces-1.2\", \"xerces-1.3\", \"xerces-1.4\"\n",
    "        ]\n",
    "\n",
    "for index in range(len(names) - 1):\n",
    "    c = names[index]\n",
    "    valid_data = names[index + 1]\n",
    "    plotGraphs(0.7, c, percentage_array, True)\n",
    "    plotGraphs(0.7, c, percentage_array, False)\n",
    "    plotGraphs(0.7, c, percentage_array, True, valid_data)\n",
    "    plotGraphs(0.7, c, percentage_array, False, valid_data)\n",
    "\n",
    "\n",
    "folder = \"ant-1.6\" ## Data Set to Check\n",
    "validationData = \"ant-1.7\""
   ]
  },
  {
   "cell_type": "code",
   "execution_count": null,
   "metadata": {
    "collapsed": true
   },
   "outputs": [],
   "source": []
  },
  {
   "cell_type": "markdown",
   "metadata": {},
   "source": [
    "# Data Set 70% used as testing\n",
    "\n",
    "### Baseline (All data is used):"
   ]
  },
  {
   "cell_type": "code",
   "execution_count": 7,
   "metadata": {},
   "outputs": [
    {
     "name": "stdout",
     "output_type": "stream",
     "text": [
      "Precision: 0.632997\n",
      "Recall: 0.654509\n",
      "F1: 0.6427885\n",
      "FalseP: 0.10377399999999999\n",
      "FalseN: 0.089623\n",
      "TrueP: 0.17924500000000002\n",
      "TrueN: 0.622642\n",
      "TestedSamples: 106.0\n",
      "TrainedSamples: 245.0\n",
      "<class 'pandas.core.frame.DataFrame'>\n"
     ]
    }
   ],
   "source": [
    "folder = \"ant-1.6\"\n",
    "df = pd.read_csv(\"OUTPUT/\" + folder + \"/0.7_1.0/Baseline_0.7_1.0.csv\")\n",
    "summarizeDataframe(df)\n",
    "print(type(df))"
   ]
  },
  {
   "cell_type": "markdown",
   "metadata": {},
   "source": [
    "### GP with 10% data trained"
   ]
  },
  {
   "cell_type": "code",
   "execution_count": 72,
   "metadata": {},
   "outputs": [
    {
     "name": "stdout",
     "output_type": "stream",
     "text": [
      "Precision: 0.34093300000000004\n",
      "Recall: 0.916264\n",
      "F1: 0.4765405\n",
      "FalseP: 0.3726415\n",
      "FalseN: 0.018868\n",
      "TrueP: 0.23584899999999998\n",
      "TrueN: 0.3537735\n",
      "TestedSamples: 106.0\n",
      "TrainedSamples: 24.0\n"
     ]
    }
   ],
   "source": [
    "summarizeDataframe(pd.read_csv(\"OUTPUT/\" + folder + \"/0.7_0.1/GP_0.7_0.1.csv\"))"
   ]
  },
  {
   "cell_type": "markdown",
   "metadata": {},
   "source": [
    "### GP with 20% data trained"
   ]
  },
  {
   "cell_type": "code",
   "execution_count": 73,
   "metadata": {},
   "outputs": [
    {
     "name": "stdout",
     "output_type": "stream",
     "text": [
      "Precision: 0.460588\n",
      "Recall: 0.8526885\n",
      "F1: 0.5288025000000001\n",
      "FalseP: 0.283019\n",
      "FalseN: 0.042453\n",
      "TrueP: 0.207547\n",
      "TrueN: 0.466981\n",
      "TestedSamples: 106.0\n",
      "TrainedSamples: 49.0\n"
     ]
    }
   ],
   "source": [
    "summarizeDataframe(pd.read_csv(\"OUTPUT/\" + folder + \"/0.7_0.2/GP_0.7_0.2.csv\"))"
   ]
  },
  {
   "cell_type": "markdown",
   "metadata": {},
   "source": [
    "### GP with 35% data trained"
   ]
  },
  {
   "cell_type": "code",
   "execution_count": 74,
   "metadata": {},
   "outputs": [
    {
     "name": "stdout",
     "output_type": "stream",
     "text": [
      "Precision: 0.6282895\n",
      "Recall: 0.6291665\n",
      "F1: 0.6122449999999999\n",
      "FalseP: 0.089623\n",
      "FalseN: 0.099057\n",
      "TrueP: 0.17452800000000002\n",
      "TrueN: 0.636792\n",
      "TestedSamples: 106.0\n",
      "TrainedSamples: 85.0\n"
     ]
    }
   ],
   "source": [
    "summarizeDataframe(pd.read_csv(\"OUTPUT/\" + folder + \"/0.7_0.35/GP_0.7_0.35.csv\"))"
   ]
  },
  {
   "cell_type": "markdown",
   "metadata": {},
   "source": [
    "### GP with 50% data trained"
   ]
  },
  {
   "cell_type": "code",
   "execution_count": 75,
   "metadata": {},
   "outputs": [
    {
     "name": "stdout",
     "output_type": "stream",
     "text": [
      "Precision: 0.6515155\n",
      "Recall: 0.6213235\n",
      "F1: 0.638889\n",
      "FalseP: 0.084906\n",
      "FalseN: 0.09434\n",
      "TrueP: 0.165094\n",
      "TrueN: 0.641509\n",
      "TestedSamples: 106.0\n",
      "TrainedSamples: 122.0\n"
     ]
    }
   ],
   "source": [
    "summarizeDataframe(pd.read_csv(\"OUTPUT/\" + folder + \"/0.7_0.5/GP_0.7_0.5.csv\"))"
   ]
  },
  {
   "cell_type": "markdown",
   "metadata": {},
   "source": [
    "### GP with 75% data trained"
   ]
  },
  {
   "cell_type": "code",
   "execution_count": 76,
   "metadata": {},
   "outputs": [
    {
     "name": "stdout",
     "output_type": "stream",
     "text": [
      "Precision: 0.6348485\n",
      "Recall: 0.6530100000000001\n",
      "F1: 0.6490145\n",
      "FalseP: 0.089623\n",
      "FalseN: 0.09434\n",
      "TrueP: 0.17924500000000002\n",
      "TrueN: 0.641509\n",
      "TestedSamples: 106.0\n",
      "TrainedSamples: 183.0\n"
     ]
    }
   ],
   "source": [
    "summarizeDataframe(pd.read_csv(\"OUTPUT/\" + folder + \"/0.7_0.75/GP_0.7_0.75.csv\"))"
   ]
  },
  {
   "cell_type": "markdown",
   "metadata": {},
   "source": [
    "### Random with 10% data trained"
   ]
  },
  {
   "cell_type": "code",
   "execution_count": 77,
   "metadata": {},
   "outputs": [
    {
     "name": "stdout",
     "output_type": "stream",
     "text": [
      "Precision: 0.311321\n",
      "Recall: 0.7009925\n",
      "F1: 0.41791000000000006\n",
      "FalseP: 0.13679249999999998\n",
      "FalseN: 0.080189\n",
      "TrueP: 0.18867899999999999\n",
      "TrueN: 0.575472\n",
      "TestedSamples: 106.0\n",
      "TrainedSamples: 24.0\n"
     ]
    }
   ],
   "source": [
    "summarizeDataframe(pd.read_csv(\"OUTPUT/\" + folder + \"/0.7_0.1/Random_0.7_0.1.csv\"))"
   ]
  },
  {
   "cell_type": "markdown",
   "metadata": {},
   "source": [
    "### Random with 20 % data trained"
   ]
  },
  {
   "cell_type": "code",
   "execution_count": 78,
   "metadata": {},
   "outputs": [
    {
     "name": "stdout",
     "output_type": "stream",
     "text": [
      "Precision: 0.42222200000000004\n",
      "Recall: 0.704094\n",
      "F1: 0.555556\n",
      "FalseP: 0.212264\n",
      "FalseN: 0.080189\n",
      "TrueP: 0.20283\n",
      "TrueN: 0.523585\n",
      "TestedSamples: 106.0\n",
      "TrainedSamples: 49.0\n"
     ]
    }
   ],
   "source": [
    "summarizeDataframe(pd.read_csv(\"OUTPUT/\" + folder + \"/0.7_0.2/Random_0.7_0.2.csv\"))"
   ]
  },
  {
   "cell_type": "markdown",
   "metadata": {},
   "source": [
    "### Random with 35% data trained"
   ]
  },
  {
   "cell_type": "code",
   "execution_count": 79,
   "metadata": {},
   "outputs": [
    {
     "name": "stdout",
     "output_type": "stream",
     "text": [
      "Precision: 0.578947\n",
      "Recall: 0.6394230000000001\n",
      "F1: 0.628571\n",
      "FalseP: 0.10377399999999999\n",
      "FalseN: 0.09434\n",
      "TrueP: 0.174528\n",
      "TrueN: 0.6273585\n",
      "TestedSamples: 106.0\n",
      "TrainedSamples: 85.0\n"
     ]
    }
   ],
   "source": [
    "summarizeDataframe(pd.read_csv(\"OUTPUT/\" + folder + \"/0.7_0.35/Random_0.7_0.35.csv\"))"
   ]
  },
  {
   "cell_type": "markdown",
   "metadata": {},
   "source": [
    "### Random with 50% data trained"
   ]
  },
  {
   "cell_type": "code",
   "execution_count": 80,
   "metadata": {},
   "outputs": [
    {
     "name": "stdout",
     "output_type": "stream",
     "text": [
      "Precision: 0.636364\n",
      "Recall: 0.644009\n",
      "F1: 0.636364\n",
      "FalseP: 0.10377399999999999\n",
      "FalseN: 0.099057\n",
      "TrueP: 0.179245\n",
      "TrueN: 0.622642\n",
      "TestedSamples: 106.0\n",
      "TrainedSamples: 122.0\n"
     ]
    }
   ],
   "source": [
    "summarizeDataframe(pd.read_csv(\"OUTPUT/\" + folder + \"/0.7_0.5/Random_0.7_0.5.csv\"))"
   ]
  },
  {
   "cell_type": "markdown",
   "metadata": {},
   "source": [
    "### Random with 75% data trained"
   ]
  },
  {
   "cell_type": "code",
   "execution_count": 81,
   "metadata": {},
   "outputs": [
    {
     "name": "stdout",
     "output_type": "stream",
     "text": [
      "Precision: 0.638182\n",
      "Recall: 0.6609195\n",
      "F1: 0.6434625\n",
      "FalseP: 0.10377399999999999\n",
      "FalseN: 0.089623\n",
      "TrueP: 0.18867899999999999\n",
      "TrueN: 0.622642\n",
      "TestedSamples: 106.0\n",
      "TrainedSamples: 183.0\n"
     ]
    }
   ],
   "source": [
    "summarizeDataframe(pd.read_csv(\"OUTPUT/\" + folder + \"/0.7_0.75/Random_0.7_0.75.csv\"))"
   ]
  },
  {
   "cell_type": "markdown",
   "metadata": {},
   "source": [
    "----------------------\n",
    "### Baseline validated"
   ]
  },
  {
   "cell_type": "code",
   "execution_count": 82,
   "metadata": {
    "scrolled": true
   },
   "outputs": [
    {
     "name": "stdout",
     "output_type": "stream",
     "text": [
      "Precision: 0.593939\n",
      "Recall: 0.5903609999999999\n",
      "F1: 0.592145\n",
      "FalseP: 0.089933\n",
      "FalseN: 0.091275\n",
      "TrueP: 0.131544\n",
      "TrueN: 0.687248\n",
      "TestedSamples: 745.0\n",
      "TrainedSamples: 245.0\n"
     ]
    }
   ],
   "source": [
    "summarizeDataframe(pd.read_csv(\"OUTPUT/\" + folder + \"/0.7_1.0/Baseline_\" + validationData + \"_0.7_1.0.csv\"))"
   ]
  },
  {
   "cell_type": "markdown",
   "metadata": {},
   "source": [
    "\n",
    "### GP with 10% validated"
   ]
  },
  {
   "cell_type": "code",
   "execution_count": 83,
   "metadata": {
    "scrolled": true
   },
   "outputs": [
    {
     "name": "stdout",
     "output_type": "stream",
     "text": [
      "Precision: 0.260649\n",
      "Recall: 0.885542\n",
      "F1: 0.39833450000000004\n",
      "FalseP: 0.42550350000000003\n",
      "FalseN: 0.025503500000000002\n",
      "TrueP: 0.1973155\n",
      "TrueN: 0.35167800000000005\n",
      "TestedSamples: 745.0\n",
      "TrainedSamples: 24.0\n"
     ]
    }
   ],
   "source": [
    "summarizeDataframe(pd.read_csv(\"OUTPUT/\"+ folder +\"/0.7_0.1/GP_\" + validationData + \"_0.7_0.1.csv\"))"
   ]
  },
  {
   "cell_type": "markdown",
   "metadata": {},
   "source": [
    "\n",
    "### GP with 20% validated"
   ]
  },
  {
   "cell_type": "code",
   "execution_count": 84,
   "metadata": {
    "scrolled": true
   },
   "outputs": [
    {
     "name": "stdout",
     "output_type": "stream",
     "text": [
      "Precision: 0.40870100000000004\n",
      "Recall: 0.8373495\n",
      "F1: 0.4537005\n",
      "FalseP: 0.27516799999999997\n",
      "FalseN: 0.036241499999999996\n",
      "TrueP: 0.1865775\n",
      "TrueN: 0.5020135\n",
      "TestedSamples: 745.0\n",
      "TrainedSamples: 49.0\n"
     ]
    }
   ],
   "source": [
    "summarizeDataframe(pd.read_csv(\"OUTPUT/\"+ folder +\"/0.7_0.2/GP_\" + validationData + \"_0.7_0.2.csv\"))"
   ]
  },
  {
   "cell_type": "markdown",
   "metadata": {},
   "source": [
    "### GP with 35% validated"
   ]
  },
  {
   "cell_type": "code",
   "execution_count": 85,
   "metadata": {},
   "outputs": [
    {
     "name": "stdout",
     "output_type": "stream",
     "text": [
      "Precision: 0.6350985\n",
      "Recall: 0.5451809999999999\n",
      "F1: 0.573333\n",
      "FalseP: 0.06979849999999999\n",
      "FalseN: 0.1013425\n",
      "TrueP: 0.12147650000000002\n",
      "TrueN: 0.7073825\n",
      "TestedSamples: 745.0\n",
      "TrainedSamples: 85.0\n"
     ]
    }
   ],
   "source": [
    "summarizeDataframe(pd.read_csv(\"OUTPUT/\"+ folder +\"/0.7_0.35/GP_\" + validationData + \"_0.7_0.35.csv\"))"
   ]
  },
  {
   "cell_type": "markdown",
   "metadata": {},
   "source": [
    "### GP with 50% validated"
   ]
  },
  {
   "cell_type": "code",
   "execution_count": 86,
   "metadata": {},
   "outputs": [
    {
     "name": "stdout",
     "output_type": "stream",
     "text": [
      "Precision: 0.637037\n",
      "Recall: 0.518072\n",
      "F1: 0.571429\n",
      "FalseP: 0.065772\n",
      "FalseN: 0.10738299999999999\n",
      "TrueP: 0.11543599999999998\n",
      "TrueN: 0.7114090000000001\n",
      "TestedSamples: 745.0\n",
      "TrainedSamples: 122.0\n"
     ]
    }
   ],
   "source": [
    "summarizeDataframe(pd.read_csv(\"OUTPUT/\"+ folder +\"/0.7_0.5/GP_\" + validationData + \"_0.7_0.5.csv\"))"
   ]
  },
  {
   "cell_type": "markdown",
   "metadata": {},
   "source": [
    "### GP with 75% validated"
   ]
  },
  {
   "cell_type": "code",
   "execution_count": 87,
   "metadata": {},
   "outputs": [
    {
     "name": "stdout",
     "output_type": "stream",
     "text": [
      "Precision: 0.637037\n",
      "Recall: 0.518072\n",
      "F1: 0.571429\n",
      "FalseP: 0.065772\n",
      "FalseN: 0.10738299999999999\n",
      "TrueP: 0.11543599999999998\n",
      "TrueN: 0.7114090000000001\n",
      "TestedSamples: 745.0\n",
      "TrainedSamples: 183.0\n"
     ]
    }
   ],
   "source": [
    "summarizeDataframe(pd.read_csv(\"OUTPUT/\"+ folder +\"/0.7_0.75/GP_\" + validationData + \"_0.7_0.75.csv\"))"
   ]
  },
  {
   "cell_type": "markdown",
   "metadata": {},
   "source": [
    "\n",
    "### Random with 10% validated"
   ]
  },
  {
   "cell_type": "code",
   "execution_count": 88,
   "metadata": {
    "scrolled": true
   },
   "outputs": [
    {
     "name": "stdout",
     "output_type": "stream",
     "text": [
      "Precision: 0.22281900000000002\n",
      "Recall: 0.695783\n",
      "F1: 0.364435\n",
      "FalseP: 0.1738255\n",
      "FalseN: 0.06778500000000001\n",
      "TrueP: 0.155034\n",
      "TrueN: 0.6033554999999999\n",
      "TestedSamples: 745.0\n",
      "TrainedSamples: 24.0\n"
     ]
    }
   ],
   "source": [
    "summarizeDataframe(pd.read_csv(\"OUTPUT/\" + folder + \"/0.7_0.1/Random_\" + validationData + \"_0.7_0.1.csv\"))"
   ]
  },
  {
   "cell_type": "markdown",
   "metadata": {},
   "source": [
    "\n",
    "### Random with 20% validated"
   ]
  },
  {
   "cell_type": "code",
   "execution_count": 89,
   "metadata": {
    "scrolled": true
   },
   "outputs": [
    {
     "name": "stdout",
     "output_type": "stream",
     "text": [
      "Precision: 0.395543\n",
      "Recall: 0.75\n",
      "F1: 0.525667\n",
      "FalseP: 0.244295\n",
      "FalseN: 0.05570449999999999\n",
      "TrueP: 0.1671145\n",
      "TrueN: 0.532886\n",
      "TestedSamples: 745.0\n",
      "TrainedSamples: 49.0\n"
     ]
    }
   ],
   "source": [
    "summarizeDataframe(pd.read_csv(\"OUTPUT/\" + folder + \"/0.7_0.2/Random_\" + validationData + \"_0.7_0.2.csv\"))"
   ]
  },
  {
   "cell_type": "markdown",
   "metadata": {},
   "source": [
    "### Random with 35% validated"
   ]
  },
  {
   "cell_type": "code",
   "execution_count": 90,
   "metadata": {},
   "outputs": [
    {
     "name": "stdout",
     "output_type": "stream",
     "text": [
      "Precision: 0.57377\n",
      "Recall: 0.608434\n",
      "F1: 0.56\n",
      "FalseP: 0.09396\n",
      "FalseN: 0.087248\n",
      "TrueP: 0.13557\n",
      "TrueN: 0.683221\n",
      "TestedSamples: 745.0\n",
      "TrainedSamples: 85.0\n"
     ]
    }
   ],
   "source": [
    "summarizeDataframe(pd.read_csv(\"OUTPUT/\" + folder + \"/0.7_0.35/Random_\" + validationData + \"_0.7_0.35.csv\"))"
   ]
  },
  {
   "cell_type": "markdown",
   "metadata": {},
   "source": [
    "### Random with 50% data trained against Ant-1.6"
   ]
  },
  {
   "cell_type": "code",
   "execution_count": 91,
   "metadata": {},
   "outputs": [
    {
     "name": "stdout",
     "output_type": "stream",
     "text": [
      "Precision: 0.593939\n",
      "Recall: 0.5873489999999999\n",
      "F1: 0.571429\n",
      "FalseP: 0.085235\n",
      "FalseN: 0.091946\n",
      "TrueP: 0.1308725\n",
      "TrueN: 0.691946\n",
      "TestedSamples: 745.0\n",
      "TrainedSamples: 122.0\n"
     ]
    }
   ],
   "source": [
    "summarizeDataframe(pd.read_csv(\"OUTPUT/\" + folder + \"/0.7_0.5/Random_\" + validationData + \"_0.7_0.5.csv\"))"
   ]
  },
  {
   "cell_type": "markdown",
   "metadata": {},
   "source": [
    "### Random with 75% data trained against Ant-1.6"
   ]
  },
  {
   "cell_type": "code",
   "execution_count": 92,
   "metadata": {
    "scrolled": true
   },
   "outputs": [
    {
     "name": "stdout",
     "output_type": "stream",
     "text": [
      "Precision: 0.593939\n",
      "Recall: 0.5903609999999999\n",
      "F1: 0.5918924999999999\n",
      "FalseP: 0.089933\n",
      "FalseN: 0.091275\n",
      "TrueP: 0.131544\n",
      "TrueN: 0.687248\n",
      "TestedSamples: 745.0\n",
      "TrainedSamples: 183.0\n"
     ]
    }
   ],
   "source": [
    "summarizeDataframe(pd.read_csv(\"OUTPUT/\" + folder + \"/0.7_0.75/Random_\" + validationData + \"_0.7_0.75.csv\"))"
   ]
  },
  {
   "cell_type": "code",
   "execution_count": null,
   "metadata": {
    "collapsed": true
   },
   "outputs": [],
   "source": []
  }
 ],
 "metadata": {
  "kernelspec": {
   "display_name": "Python 3",
   "language": "python",
   "name": "python3"
  },
  "language_info": {
   "codemirror_mode": {
    "name": "ipython",
    "version": 3
   },
   "file_extension": ".py",
   "mimetype": "text/x-python",
   "name": "python",
   "nbconvert_exporter": "python",
   "pygments_lexer": "ipython3",
   "version": "3.6.1"
  }
 },
 "nbformat": 4,
 "nbformat_minor": 2
}
