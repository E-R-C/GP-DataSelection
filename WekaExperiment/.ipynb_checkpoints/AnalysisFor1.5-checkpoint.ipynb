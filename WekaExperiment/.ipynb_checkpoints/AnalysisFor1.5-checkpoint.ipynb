{
 "cells": [
  {
   "cell_type": "code",
   "execution_count": 1,
   "metadata": {
    "collapsed": true
   },
   "outputs": [],
   "source": [
    "import pandas as pd\n",
    "import matplotlib.pyplot as plt"
   ]
  },
  {
   "cell_type": "code",
   "execution_count": 2,
   "metadata": {
    "collapsed": true
   },
   "outputs": [],
   "source": [
    "def summarizeDataframe(df):\n",
    "    sa = [\"Precision\", \"Recall\", \"F1\", \"FalseN\", \"Samples\"]\n",
    "    sa = df.columns.values\n",
    "    for string in sa:\n",
    "        print(string + \": \" + str(df[string].median()))\n",
    "    "
   ]
  },
  {
   "cell_type": "markdown",
   "metadata": {},
   "source": [
    "# Ant 1.5 with 70% used as testing\n",
    "\n",
    "### Baseline (All data is used):"
   ]
  },
  {
   "cell_type": "code",
   "execution_count": 3,
   "metadata": {},
   "outputs": [
    {
     "name": "stdout",
     "output_type": "stream",
     "text": [
      "Precision: 0.25\n",
      "Recall: 0.0\n",
      "F1: 0.154762\n",
      "FalseP: 0.0\n",
      "FalseN: 0.090909\n",
      "TrueP: 0.0\n",
      "TrueN: 0.909091\n",
      "TestedSamples: 88.0\n",
      "TrainedSamples: 205.0\n"
     ]
    }
   ],
   "source": [
    "df = pd.read_csv(\"OUTPUT/ant-1.5/0.7_1.0/Baseline_0.7_1.0.csv\")\n",
    "summarizeDataframe(df)"
   ]
  },
  {
   "cell_type": "markdown",
   "metadata": {},
   "source": [
    "### GP with 10% data trained"
   ]
  },
  {
   "cell_type": "code",
   "execution_count": 4,
   "metadata": {},
   "outputs": [
    {
     "name": "stdout",
     "output_type": "stream",
     "text": [
      "Precision: nan\n",
      "Recall: 0.0\n",
      "F1: nan\n",
      "FalseP: 0.0\n",
      "FalseN: 0.090909\n",
      "TrueP: 0.0\n",
      "TrueN: 0.909091\n",
      "TestedSamples: 88.0\n",
      "TrainedSamples: 20.0\n"
     ]
    }
   ],
   "source": [
    "summarizeDataframe(pd.read_csv(\"OUTPUT/ant-1.5/0.7_0.1/GP_0.7_0.1.csv\"))"
   ]
  },
  {
   "cell_type": "markdown",
   "metadata": {},
   "source": [
    "### GP with 20% data trained"
   ]
  },
  {
   "cell_type": "code",
   "execution_count": 5,
   "metadata": {},
   "outputs": [
    {
     "name": "stdout",
     "output_type": "stream",
     "text": [
      "Precision: 0.428571\n",
      "Recall: 0.0\n",
      "F1: 0.545455\n",
      "FalseP: 0.0\n",
      "FalseN: 0.090909\n",
      "TrueP: 0.0\n",
      "TrueN: 0.909091\n",
      "TestedSamples: 88.0\n",
      "TrainedSamples: 41.0\n"
     ]
    }
   ],
   "source": [
    "summarizeDataframe(pd.read_csv(\"OUTPUT/ant-1.5/0.7_0.2/GP_0.7_0.2.csv\"))"
   ]
  },
  {
   "cell_type": "markdown",
   "metadata": {},
   "source": [
    "### GP with 35% data trained"
   ]
  },
  {
   "cell_type": "code",
   "execution_count": 6,
   "metadata": {},
   "outputs": [
    {
     "name": "stdout",
     "output_type": "stream",
     "text": [
      "Precision: nan\n",
      "Recall: 0.0\n",
      "F1: nan\n",
      "FalseP: 0.0\n",
      "FalseN: 0.090909\n",
      "TrueP: 0.0\n",
      "TrueN: 0.909091\n",
      "TestedSamples: 88.0\n",
      "TrainedSamples: 71.0\n"
     ]
    }
   ],
   "source": [
    "summarizeDataframe(pd.read_csv(\"OUTPUT/ant-1.5/0.7_0.35/GP_0.7_0.35.csv\"))"
   ]
  },
  {
   "cell_type": "markdown",
   "metadata": {},
   "source": [
    "### GP with 50% data trained"
   ]
  },
  {
   "cell_type": "code",
   "execution_count": 7,
   "metadata": {},
   "outputs": [
    {
     "name": "stdout",
     "output_type": "stream",
     "text": [
      "Precision: 1.0\n",
      "Recall: 0.0\n",
      "F1: 0.545455\n",
      "FalseP: 0.0\n",
      "FalseN: 0.090909\n",
      "TrueP: 0.0\n",
      "TrueN: 0.909091\n",
      "TestedSamples: 88.0\n",
      "TrainedSamples: 102.0\n"
     ]
    }
   ],
   "source": [
    "df = pd.read_csv(\"OUTPUT/ant-1.5/0.7_0.5/GP_0.7_0.5.csv\")\n",
    "summarizeDataframe(df)"
   ]
  },
  {
   "cell_type": "markdown",
   "metadata": {},
   "source": [
    "### GP with 75% data trained"
   ]
  },
  {
   "cell_type": "code",
   "execution_count": 8,
   "metadata": {},
   "outputs": [
    {
     "name": "stdout",
     "output_type": "stream",
     "text": [
      "Precision: 0.333333\n",
      "Recall: 0.0\n",
      "F1: 0.20201999999999998\n",
      "FalseP: 0.0\n",
      "FalseN: 0.090909\n",
      "TrueP: 0.0\n",
      "TrueN: 0.903409\n",
      "TestedSamples: 88.0\n",
      "TrainedSamples: 153.0\n"
     ]
    }
   ],
   "source": [
    "summarizeDataframe(pd.read_csv(\"OUTPUT/ant-1.5/0.7_0.75/GP_0.7_0.75.csv\"))"
   ]
  },
  {
   "cell_type": "markdown",
   "metadata": {},
   "source": [
    "### Random with 10% data trained"
   ]
  },
  {
   "cell_type": "code",
   "execution_count": 9,
   "metadata": {},
   "outputs": [
    {
     "name": "stdout",
     "output_type": "stream",
     "text": [
      "Precision: nan\n",
      "Recall: 0.0\n",
      "F1: nan\n",
      "FalseP: 0.0\n",
      "FalseN: 0.090909\n",
      "TrueP: 0.0\n",
      "TrueN: 0.909091\n",
      "TestedSamples: 88.0\n",
      "TrainedSamples: 20.0\n"
     ]
    }
   ],
   "source": [
    "summarizeDataframe(pd.read_csv(\"OUTPUT/ant-1.5/0.7_0.1/Random_0.7_0.1.csv\"))"
   ]
  },
  {
   "cell_type": "markdown",
   "metadata": {},
   "source": [
    "### Random with 20 % data trained"
   ]
  },
  {
   "cell_type": "code",
   "execution_count": 10,
   "metadata": {},
   "outputs": [
    {
     "name": "stdout",
     "output_type": "stream",
     "text": [
      "Precision: nan\n",
      "Recall: 0.0\n",
      "F1: nan\n",
      "FalseP: 0.0\n",
      "FalseN: 0.090909\n",
      "TrueP: 0.0\n",
      "TrueN: 0.909091\n",
      "TestedSamples: 88.0\n",
      "TrainedSamples: 41.0\n"
     ]
    }
   ],
   "source": [
    "summarizeDataframe(pd.read_csv(\"OUTPUT/ant-1.5/0.7_0.2/Random_0.7_0.2.csv\"))"
   ]
  },
  {
   "cell_type": "markdown",
   "metadata": {},
   "source": [
    "### Random with 35% data trained"
   ]
  },
  {
   "cell_type": "code",
   "execution_count": 11,
   "metadata": {},
   "outputs": [
    {
     "name": "stdout",
     "output_type": "stream",
     "text": [
      "Precision: nan\n",
      "Recall: 0.0\n",
      "F1: nan\n",
      "FalseP: 0.0\n",
      "FalseN: 0.090909\n",
      "TrueP: 0.0\n",
      "TrueN: 0.909091\n",
      "TestedSamples: 88.0\n",
      "TrainedSamples: 71.0\n"
     ]
    }
   ],
   "source": [
    "summarizeDataframe(pd.read_csv(\"OUTPUT/ant-1.5/0.7_0.35/Random_0.7_0.35.csv\"))"
   ]
  },
  {
   "cell_type": "markdown",
   "metadata": {},
   "source": [
    "### Random with 50% data trained"
   ]
  },
  {
   "cell_type": "code",
   "execution_count": 12,
   "metadata": {},
   "outputs": [
    {
     "name": "stdout",
     "output_type": "stream",
     "text": [
      "Precision: nan\n",
      "Recall: 0.0\n",
      "F1: nan\n",
      "FalseP: 0.0\n",
      "FalseN: 0.090909\n",
      "TrueP: 0.0\n",
      "TrueN: 0.909091\n",
      "TestedSamples: 88.0\n",
      "TrainedSamples: 102.0\n"
     ]
    }
   ],
   "source": [
    "df = pd.read_csv(\"OUTPUT/ant-1.5/0.7_0.5/Random_0.7_0.5.csv\")\n",
    "summarizeDataframe(df)"
   ]
  },
  {
   "cell_type": "markdown",
   "metadata": {},
   "source": [
    "### Random with 75% data trained"
   ]
  },
  {
   "cell_type": "code",
   "execution_count": 13,
   "metadata": {},
   "outputs": [
    {
     "name": "stdout",
     "output_type": "stream",
     "text": [
      "Precision: 0.125\n",
      "Recall: 0.0\n",
      "F1: 0.14285699999999998\n",
      "FalseP: 0.0\n",
      "FalseN: 0.090909\n",
      "TrueP: 0.0\n",
      "TrueN: 0.909091\n",
      "TestedSamples: 88.0\n",
      "TrainedSamples: 153.0\n"
     ]
    }
   ],
   "source": [
    "summarizeDataframe(pd.read_csv(\"OUTPUT/ant-1.5/0.7_0.75/Random_0.7_0.75.csv\"))"
   ]
  },
  {
   "cell_type": "markdown",
   "metadata": {},
   "source": [
    "----------------------\n",
    "### Baseline validated against Ant 1.7"
   ]
  },
  {
   "cell_type": "code",
   "execution_count": 14,
   "metadata": {
    "scrolled": true
   },
   "outputs": [
    {
     "name": "stdout",
     "output_type": "stream",
     "text": [
      "Precision: 0.643315\n",
      "Recall: 0.0\n",
      "F1: 0.304842\n",
      "FalseP: 0.0\n",
      "FalseN: 0.22281900000000002\n",
      "TrueP: 0.0\n",
      "TrueN: 0.777181\n",
      "TestedSamples: 745.0\n",
      "TrainedSamples: 205.0\n"
     ]
    }
   ],
   "source": [
    "summarizeDataframe(pd.read_csv(\"OUTPUT/ant-1.5/0.7_1.0/Baseline_ant-1.7_0.7_1.0.csv\"))"
   ]
  },
  {
   "cell_type": "markdown",
   "metadata": {},
   "source": [
    "\n",
    "### GP with 10% validated against Ant 1.7"
   ]
  },
  {
   "cell_type": "code",
   "execution_count": 15,
   "metadata": {
    "scrolled": true
   },
   "outputs": [
    {
     "name": "stdout",
     "output_type": "stream",
     "text": [
      "Precision: nan\n",
      "Recall: 0.0\n",
      "F1: nan\n",
      "FalseP: 0.0\n",
      "FalseN: 0.22281900000000002\n",
      "TrueP: 0.0\n",
      "TrueN: 0.777181\n",
      "TestedSamples: 745.0\n",
      "TrainedSamples: 20.0\n"
     ]
    }
   ],
   "source": [
    "summarizeDataframe(pd.read_csv(\"OUTPUT/ant-1.5/0.7_0.1/GP_ant-1.7_0.7_0.1.csv\"))"
   ]
  },
  {
   "cell_type": "markdown",
   "metadata": {},
   "source": [
    "\n",
    "### GP with 20% validated against Ant 1.7"
   ]
  },
  {
   "cell_type": "code",
   "execution_count": 16,
   "metadata": {
    "scrolled": true
   },
   "outputs": [
    {
     "name": "stdout",
     "output_type": "stream",
     "text": [
      "Precision: 0.663043\n",
      "Recall: 0.0\n",
      "F1: 0.472868\n",
      "FalseP: 0.0\n",
      "FalseN: 0.22281900000000002\n",
      "TrueP: 0.0\n",
      "TrueN: 0.777181\n",
      "TestedSamples: 745.0\n",
      "TrainedSamples: 41.0\n"
     ]
    }
   ],
   "source": [
    "summarizeDataframe(pd.read_csv(\"OUTPUT/ant-1.5/0.7_0.2/GP_ant-1.7_0.7_0.2.csv\"))"
   ]
  },
  {
   "cell_type": "markdown",
   "metadata": {},
   "source": [
    "### GP with 50% data trained against Ant-1.7"
   ]
  },
  {
   "cell_type": "code",
   "execution_count": 17,
   "metadata": {},
   "outputs": [
    {
     "name": "stdout",
     "output_type": "stream",
     "text": [
      "Precision: 0.678571\n",
      "Recall: 0.0\n",
      "F1: 0.195876\n",
      "FalseP: 0.0\n",
      "FalseN: 0.22281900000000002\n",
      "TrueP: 0.0\n",
      "TrueN: 0.777181\n",
      "TestedSamples: 745.0\n",
      "TrainedSamples: 102.0\n"
     ]
    }
   ],
   "source": [
    "summarizeDataframe(pd.read_csv(\"OUTPUT/ant-1.5/0.7_0.5/GP_ant-1.7_0.7_0.5.csv\"))"
   ]
  },
  {
   "cell_type": "markdown",
   "metadata": {},
   "source": [
    "### GP with 75% trained against Ant-1.7"
   ]
  },
  {
   "cell_type": "code",
   "execution_count": 18,
   "metadata": {},
   "outputs": [
    {
     "name": "stdout",
     "output_type": "stream",
     "text": [
      "Precision: 0.6912475\n",
      "Recall: 0.0\n",
      "F1: 0.226178\n",
      "FalseP: 0.0\n",
      "FalseN: 0.22281900000000002\n",
      "TrueP: 0.0\n",
      "TrueN: 0.777181\n",
      "TestedSamples: 745.0\n",
      "TrainedSamples: 153.0\n"
     ]
    }
   ],
   "source": [
    "summarizeDataframe(pd.read_csv(\"OUTPUT/ant-1.5/0.7_0.75/GP_ant-1.7_0.7_0.75.csv\"))"
   ]
  },
  {
   "cell_type": "markdown",
   "metadata": {},
   "source": [
    "\n",
    "### Random with 10% validated against Ant 1.7"
   ]
  },
  {
   "cell_type": "code",
   "execution_count": 19,
   "metadata": {
    "scrolled": true
   },
   "outputs": [
    {
     "name": "stdout",
     "output_type": "stream",
     "text": [
      "Precision: nan\n",
      "Recall: 0.0\n",
      "F1: nan\n",
      "FalseP: 0.0\n",
      "FalseN: 0.22281900000000002\n",
      "TrueP: 0.0\n",
      "TrueN: 0.777181\n",
      "TestedSamples: 745.0\n",
      "TrainedSamples: 20.0\n"
     ]
    }
   ],
   "source": [
    "summarizeDataframe(pd.read_csv(\"OUTPUT/ant-1.5/0.7_0.1/Random_ant-1.7_0.7_0.1.csv\"))"
   ]
  },
  {
   "cell_type": "markdown",
   "metadata": {},
   "source": [
    "\n",
    "### Random with 20% validated against Ant 1.7"
   ]
  },
  {
   "cell_type": "code",
   "execution_count": 20,
   "metadata": {
    "scrolled": true
   },
   "outputs": [
    {
     "name": "stdout",
     "output_type": "stream",
     "text": [
      "Precision: nan\n",
      "Recall: 0.0\n",
      "F1: nan\n",
      "FalseP: 0.0\n",
      "FalseN: 0.22281900000000002\n",
      "TrueP: 0.0\n",
      "TrueN: 0.777181\n",
      "TestedSamples: 745.0\n",
      "TrainedSamples: 41.0\n"
     ]
    }
   ],
   "source": [
    "summarizeDataframe(pd.read_csv(\"OUTPUT/ant-1.5/0.7_0.2/Random_ant-1.7_0.7_0.2.csv\"))"
   ]
  },
  {
   "cell_type": "markdown",
   "metadata": {},
   "source": [
    "### Random with 50% data trained against Ant-1.7"
   ]
  },
  {
   "cell_type": "code",
   "execution_count": 21,
   "metadata": {},
   "outputs": [
    {
     "name": "stdout",
     "output_type": "stream",
     "text": [
      "Precision: nan\n",
      "Recall: 0.0\n",
      "F1: nan\n",
      "FalseP: 0.0\n",
      "FalseN: 0.22281900000000002\n",
      "TrueP: 0.0\n",
      "TrueN: 0.777181\n",
      "TestedSamples: 745.0\n",
      "TrainedSamples: 102.0\n"
     ]
    }
   ],
   "source": [
    "summarizeDataframe(pd.read_csv(\"OUTPUT/ant-1.5/0.7_0.5/Random_ant-1.7_0.7_0.5.csv\"))"
   ]
  },
  {
   "cell_type": "markdown",
   "metadata": {},
   "source": [
    "### Random with 75% data trained against Ant-1.7"
   ]
  },
  {
   "cell_type": "code",
   "execution_count": 22,
   "metadata": {
    "scrolled": true
   },
   "outputs": [
    {
     "name": "stdout",
     "output_type": "stream",
     "text": [
      "Precision: 0.779971\n",
      "Recall: 0.0\n",
      "F1: 0.29770050000000003\n",
      "FalseP: 0.0\n",
      "FalseN: 0.22281900000000002\n",
      "TrueP: 0.0\n",
      "TrueN: 0.777181\n",
      "TestedSamples: 745.0\n",
      "TrainedSamples: 153.0\n"
     ]
    }
   ],
   "source": [
    "summarizeDataframe(pd.read_csv(\"OUTPUT/ant-1.5/0.7_0.75/Random_ant-1.7_0.7_0.75.csv\"))"
   ]
  },
  {
   "cell_type": "code",
   "execution_count": null,
   "metadata": {
    "collapsed": true
   },
   "outputs": [],
   "source": []
  }
 ],
 "metadata": {
  "kernelspec": {
   "display_name": "Python 3",
   "language": "python",
   "name": "python3"
  },
  "language_info": {
   "codemirror_mode": {
    "name": "ipython",
    "version": 3
   },
   "file_extension": ".py",
   "mimetype": "text/x-python",
   "name": "python",
   "nbconvert_exporter": "python",
   "pygments_lexer": "ipython3",
   "version": "3.6.1"
  }
 },
 "nbformat": 4,
 "nbformat_minor": 2
}
