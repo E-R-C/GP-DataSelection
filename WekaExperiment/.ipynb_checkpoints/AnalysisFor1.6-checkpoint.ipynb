{
 "cells": [
  {
   "cell_type": "code",
   "execution_count": 2,
   "metadata": {
    "collapsed": true
   },
   "outputs": [],
   "source": [
    "## Opens the GP.csv and Random.csv made and does basic stats"
   ]
  },
  {
   "cell_type": "code",
   "execution_count": 3,
   "metadata": {
    "collapsed": true
   },
   "outputs": [],
   "source": [
    "import pandas as pd\n",
    "import matplotlib.pyplot as plt"
   ]
  },
  {
   "cell_type": "code",
   "execution_count": 15,
   "metadata": {
    "collapsed": true
   },
   "outputs": [],
   "source": [
    "GP_Data = pd.read_csv(\"GP.csv\")\n",
    "Random_Data = pd.read_csv(\"Random.csv\")"
   ]
  },
  {
   "cell_type": "code",
   "execution_count": 16,
   "metadata": {},
   "outputs": [
    {
     "data": {
      "text/html": [
       "<div>\n",
       "<style>\n",
       "    .dataframe thead tr:only-child th {\n",
       "        text-align: right;\n",
       "    }\n",
       "\n",
       "    .dataframe thead th {\n",
       "        text-align: left;\n",
       "    }\n",
       "\n",
       "    .dataframe tbody tr th {\n",
       "        vertical-align: top;\n",
       "    }\n",
       "</style>\n",
       "<table border=\"1\" class=\"dataframe\">\n",
       "  <thead>\n",
       "    <tr style=\"text-align: right;\">\n",
       "      <th></th>\n",
       "      <th>Precision</th>\n",
       "      <th>Recall</th>\n",
       "      <th>F1</th>\n",
       "      <th>MSE</th>\n",
       "    </tr>\n",
       "  </thead>\n",
       "  <tbody>\n",
       "    <tr>\n",
       "      <th>0</th>\n",
       "      <td>0.617647</td>\n",
       "      <td>0.411765</td>\n",
       "      <td>0.494118</td>\n",
       "      <td>0.646843</td>\n",
       "    </tr>\n",
       "    <tr>\n",
       "      <th>1</th>\n",
       "      <td>0.522727</td>\n",
       "      <td>0.500000</td>\n",
       "      <td>0.511111</td>\n",
       "      <td>1.012446</td>\n",
       "    </tr>\n",
       "    <tr>\n",
       "      <th>2</th>\n",
       "      <td>0.620690</td>\n",
       "      <td>0.418605</td>\n",
       "      <td>0.500000</td>\n",
       "      <td>0.881641</td>\n",
       "    </tr>\n",
       "    <tr>\n",
       "      <th>3</th>\n",
       "      <td>0.630435</td>\n",
       "      <td>0.591837</td>\n",
       "      <td>0.610526</td>\n",
       "      <td>0.838240</td>\n",
       "    </tr>\n",
       "    <tr>\n",
       "      <th>4</th>\n",
       "      <td>0.576923</td>\n",
       "      <td>0.625000</td>\n",
       "      <td>0.600000</td>\n",
       "      <td>1.186461</td>\n",
       "    </tr>\n",
       "  </tbody>\n",
       "</table>\n",
       "</div>"
      ],
      "text/plain": [
       "   Precision    Recall        F1       MSE\n",
       "0   0.617647  0.411765  0.494118  0.646843\n",
       "1   0.522727  0.500000  0.511111  1.012446\n",
       "2   0.620690  0.418605  0.500000  0.881641\n",
       "3   0.630435  0.591837  0.610526  0.838240\n",
       "4   0.576923  0.625000  0.600000  1.186461"
      ]
     },
     "execution_count": 16,
     "metadata": {},
     "output_type": "execute_result"
    }
   ],
   "source": [
    "GP_Data.head()"
   ]
  },
  {
   "cell_type": "code",
   "execution_count": 39,
   "metadata": {},
   "outputs": [],
   "source": [
    "def summarizeDataframe(df):\n",
    "    sa = [\"Precision\", \"Recall\", \"F1\", \"FalseN\"]\n",
    "    for string in sa:\n",
    "        print(string + \": \" + str(df[string].median()))\n",
    "    "
   ]
  },
  {
   "cell_type": "markdown",
   "metadata": {},
   "source": [
    "# Ant 1.6 with 70% used as testing\n",
    "\n",
    "### Baseline (All data is used):"
   ]
  },
  {
   "cell_type": "code",
   "execution_count": 38,
   "metadata": {},
   "outputs": [
    {
     "name": "stdout",
     "output_type": "stream",
     "text": [
      "Precision: 0.632997\n",
      "Recall: 0.654509\n",
      "F1: 0.6427885\n",
      "FalseN: 0.089623\n"
     ]
    }
   ],
   "source": [
    "df = pd.read_csv(\"OUTPUT/ant-1.6/0.7_1.0/Baseline_0.7_1.0.csv\")\n",
    "summarizeDataframe(df)"
   ]
  },
  {
   "cell_type": "markdown",
   "metadata": {},
   "source": [
    "### GP with 50% data trained"
   ]
  },
  {
   "cell_type": "code",
   "execution_count": 40,
   "metadata": {},
   "outputs": [
    {
     "name": "stdout",
     "output_type": "stream",
     "text": [
      "Precision: 0.6726190000000001\n",
      "Recall: 0.6213235\n",
      "F1: 0.638889\n",
      "FalseN: 0.099057\n"
     ]
    }
   ],
   "source": [
    "df = pd.read_csv(\"OUTPUT/ant-1.6/0.7_0.5/GP_0.7_0.5.csv\")\n",
    "summarizeDataframe(df)"
   ]
  },
  {
   "cell_type": "markdown",
   "metadata": {},
   "source": [
    "### Random with 50% data trained"
   ]
  },
  {
   "cell_type": "code",
   "execution_count": 42,
   "metadata": {},
   "outputs": [
    {
     "name": "stdout",
     "output_type": "stream",
     "text": [
      "Precision: 0.623311\n",
      "Recall: 0.654509\n",
      "F1: 0.6427885\n",
      "FalseN: 0.09434\n"
     ]
    }
   ],
   "source": [
    "df = pd.read_csv(\"OUTPUT/ant-1.6/0.7_0.5/Random_0.7_0.5.csv\")\n",
    "summarizeDataframe(df)"
   ]
  },
  {
   "cell_type": "markdown",
   "metadata": {},
   "source": [
    "### GP with 50% data trained against Ant-1.7"
   ]
  },
  {
   "cell_type": "code",
   "execution_count": 43,
   "metadata": {},
   "outputs": [
    {
     "name": "stdout",
     "output_type": "stream",
     "text": [
      "Precision: 0.593939\n",
      "Recall: 0.5903609999999999\n",
      "F1: 0.571429\n",
      "FalseN: 0.091275\n"
     ]
    }
   ],
   "source": [
    "summarizeDataframe(pd.read_csv(\"OUTPUT/ant-1.6/0.7_0.5/Random_ant-1.7_0.7_0.5.csv\"))"
   ]
  },
  {
   "cell_type": "markdown",
   "metadata": {},
   "source": []
  }
 ],
 "metadata": {
  "kernelspec": {
   "display_name": "Python 3",
   "language": "python",
   "name": "python3"
  },
  "language_info": {
   "codemirror_mode": {
    "name": "ipython",
    "version": 3
   },
   "file_extension": ".py",
   "mimetype": "text/x-python",
   "name": "python",
   "nbconvert_exporter": "python",
   "pygments_lexer": "ipython3",
   "version": "3.6.1"
  }
 },
 "nbformat": 4,
 "nbformat_minor": 2
}
