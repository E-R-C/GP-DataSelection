{
 "cells": [
  {
   "cell_type": "code",
   "execution_count": 3,
   "metadata": {
    "collapsed": true
   },
   "outputs": [],
   "source": [
    "import pandas as pd\n",
    "import matplotlib.pyplot as plt"
   ]
  },
  {
   "cell_type": "code",
   "execution_count": 4,
   "metadata": {
    "collapsed": true
   },
   "outputs": [],
   "source": [
    "def summarizeDataframe(df):\n",
    "    sa = df.columns.values\n",
    "    for string in df.columns.values:\n",
    "        print(string + \": \" + str(df[string].median()))\n",
    "folder = \"camel-1.0\""
   ]
  },
  {
   "cell_type": "markdown",
   "metadata": {},
   "source": [
    "# Camel 1.0 with 70% used as testing\n",
    "\n",
    "### Baseline (All data is used):"
   ]
  },
  {
   "cell_type": "code",
   "execution_count": 5,
   "metadata": {},
   "outputs": [
    {
     "name": "stdout",
     "output_type": "stream",
     "text": [
      "Precision: nan\n",
      "Recall: 0.0\n",
      "F1: nan\n",
      "FalseP: 0.0\n",
      "FalseN: 0.029412\n",
      "TrueP: 0.0\n",
      "TrueN: 0.9705879999999999\n",
      "TestedSamples: 102.0\n",
      "TrainedSamples: 237.0\n"
     ]
    }
   ],
   "source": [
    "df = pd.read_csv(\"OUTPUT/\" + folder+ \"/0.7_1.0/Baseline_0.7_1.0.csv\")\n",
    "summarizeDataframe(df)"
   ]
  },
  {
   "cell_type": "markdown",
   "metadata": {},
   "source": [
    "### GP with 10% data trained"
   ]
  },
  {
   "cell_type": "code",
   "execution_count": 6,
   "metadata": {},
   "outputs": [
    {
     "name": "stdout",
     "output_type": "stream",
     "text": [
      "Precision: 0.07142899999999999\n",
      "Recall: 0.0\n",
      "F1: 0.125\n",
      "FalseP: 0.0\n",
      "FalseN: 0.029412\n",
      "TrueP: 0.0\n",
      "TrueN: 0.9558819999999999\n",
      "TestedSamples: 102.0\n",
      "TrainedSamples: 23.0\n"
     ]
    }
   ],
   "source": [
    "summarizeDataframe(pd.read_csv(\"OUTPUT/\"+ folder + \"/0.7_0.1/GP_0.7_0.1.csv\"))"
   ]
  },
  {
   "cell_type": "markdown",
   "metadata": {},
   "source": [
    "### GP with 20% data trained"
   ]
  },
  {
   "cell_type": "code",
   "execution_count": 5,
   "metadata": {},
   "outputs": [
    {
     "name": "stdout",
     "output_type": "stream",
     "text": [
      "Precision: 0.14285699999999998\n",
      "Recall: 0.25\n",
      "F1: 0.228758\n",
      "FalseP: 0.058824\n",
      "FalseN: 0.029412\n",
      "TrueP: 0.009804\n",
      "TrueN: 0.916667\n",
      "TestedSamples: 102.0\n",
      "TrainedSamples: 47.0\n"
     ]
    }
   ],
   "source": [
    "summarizeDataframe(pd.read_csv(\"OUTPUT/camel-1.0/0.7_0.2/GP_0.7_0.2.csv\"))"
   ]
  },
  {
   "cell_type": "markdown",
   "metadata": {},
   "source": [
    "### GP with 35% data trained"
   ]
  },
  {
   "cell_type": "code",
   "execution_count": 6,
   "metadata": {},
   "outputs": [
    {
     "name": "stdout",
     "output_type": "stream",
     "text": [
      "Precision: 0.1\n",
      "Recall: 0.2916665\n",
      "F1: 0.166667\n",
      "FalseP: 0.073529\n",
      "FalseN: 0.02451\n",
      "TrueP: 0.009804\n",
      "TrueN: 0.892157\n",
      "TestedSamples: 102.0\n",
      "TrainedSamples: 82.0\n"
     ]
    }
   ],
   "source": [
    "summarizeDataframe(pd.read_csv(\"OUTPUT/camel-1.0/0.7_0.35/GP_0.7_0.35.csv\"))"
   ]
  },
  {
   "cell_type": "markdown",
   "metadata": {},
   "source": [
    "### GP with 50% data trained"
   ]
  },
  {
   "cell_type": "code",
   "execution_count": 7,
   "metadata": {},
   "outputs": [
    {
     "name": "stdout",
     "output_type": "stream",
     "text": [
      "Precision: 0.1180555\n",
      "Recall: 0.0\n",
      "F1: 0.173913\n",
      "FalseP: 0.0\n",
      "FalseN: 0.029412\n",
      "TrueP: 0.0\n",
      "TrueN: 0.941176\n",
      "TestedSamples: 102.0\n",
      "TrainedSamples: 118.0\n"
     ]
    }
   ],
   "source": [
    "summarizeDataframe(pd.read_csv(\"OUTPUT/camel-1.0/0.7_0.5/GP_0.7_0.5.csv\"))"
   ]
  },
  {
   "cell_type": "markdown",
   "metadata": {},
   "source": [
    "### GP with 75% data trained"
   ]
  },
  {
   "cell_type": "code",
   "execution_count": 8,
   "metadata": {},
   "outputs": [
    {
     "name": "stdout",
     "output_type": "stream",
     "text": [
      "Precision: 0.021738999999999998\n",
      "Recall: 0.0\n",
      "F1: 0.041667\n",
      "FalseP: 0.0\n",
      "FalseN: 0.029412\n",
      "TrueP: 0.0\n",
      "TrueN: 0.9656859999999999\n",
      "TestedSamples: 102.0\n",
      "TrainedSamples: 177.0\n"
     ]
    }
   ],
   "source": [
    "summarizeDataframe(pd.read_csv(\"OUTPUT/camel-1.0/0.7_0.75/GP_0.7_0.75.csv\"))"
   ]
  },
  {
   "cell_type": "markdown",
   "metadata": {},
   "source": [
    "### Random with 10% data trained"
   ]
  },
  {
   "cell_type": "code",
   "execution_count": 9,
   "metadata": {},
   "outputs": [
    {
     "name": "stdout",
     "output_type": "stream",
     "text": [
      "Precision: 0.0\n",
      "Recall: 0.0\n",
      "F1: nan\n",
      "FalseP: 0.0\n",
      "FalseN: 0.029412\n",
      "TrueP: 0.0\n",
      "TrueN: 0.9705879999999999\n",
      "TestedSamples: 102.0\n",
      "TrainedSamples: 23.0\n"
     ]
    }
   ],
   "source": [
    "summarizeDataframe(pd.read_csv(\"OUTPUT/camel-1.0/0.7_0.1/Random_0.7_0.1.csv\"))"
   ]
  },
  {
   "cell_type": "markdown",
   "metadata": {},
   "source": [
    "### Random with 20 % data trained"
   ]
  },
  {
   "cell_type": "code",
   "execution_count": 10,
   "metadata": {},
   "outputs": [
    {
     "name": "stdout",
     "output_type": "stream",
     "text": [
      "Precision: 0.0\n",
      "Recall: 0.0\n",
      "F1: 0.151111\n",
      "FalseP: 0.0\n",
      "FalseN: 0.029412\n",
      "TrueP: 0.0\n",
      "TrueN: 0.960784\n",
      "TestedSamples: 102.0\n",
      "TrainedSamples: 47.0\n"
     ]
    }
   ],
   "source": [
    "summarizeDataframe(pd.read_csv(\"OUTPUT/camel-1.0/0.7_0.2/Random_0.7_0.2.csv\"))"
   ]
  },
  {
   "cell_type": "markdown",
   "metadata": {},
   "source": [
    "### Random with 35% data trained"
   ]
  },
  {
   "cell_type": "code",
   "execution_count": 11,
   "metadata": {},
   "outputs": [
    {
     "name": "stdout",
     "output_type": "stream",
     "text": [
      "Precision: 0.046875\n",
      "Recall: 0.0\n",
      "F1: 0.145614\n",
      "FalseP: 0.019608\n",
      "FalseN: 0.029412\n",
      "TrueP: 0.0\n",
      "TrueN: 0.9362745\n",
      "TestedSamples: 102.0\n",
      "TrainedSamples: 82.0\n"
     ]
    }
   ],
   "source": [
    "summarizeDataframe(pd.read_csv(\"OUTPUT/camel-1.0/0.7_0.35/Random_0.7_0.35.csv\"))"
   ]
  },
  {
   "cell_type": "markdown",
   "metadata": {},
   "source": [
    "### Random with 50% data trained"
   ]
  },
  {
   "cell_type": "code",
   "execution_count": 12,
   "metadata": {},
   "outputs": [
    {
     "name": "stdout",
     "output_type": "stream",
     "text": [
      "Precision: 0.047619\n",
      "Recall: 0.0\n",
      "F1: 0.08\n",
      "FalseP: 0.0\n",
      "FalseN: 0.029412\n",
      "TrueP: 0.0\n",
      "TrueN: 0.9705879999999999\n",
      "TestedSamples: 102.0\n",
      "TrainedSamples: 118.0\n"
     ]
    }
   ],
   "source": [
    "summarizeDataframe(pd.read_csv(\"OUTPUT/camel-1.0/0.7_0.5/Random_0.7_0.5.csv\"))"
   ]
  },
  {
   "cell_type": "markdown",
   "metadata": {},
   "source": [
    "### Random with 75% data trained"
   ]
  },
  {
   "cell_type": "code",
   "execution_count": 13,
   "metadata": {},
   "outputs": [
    {
     "name": "stdout",
     "output_type": "stream",
     "text": [
      "Precision: 0.0\n",
      "Recall: 0.0\n",
      "F1: 0.266667\n",
      "FalseP: 0.0\n",
      "FalseN: 0.029412\n",
      "TrueP: 0.0\n",
      "TrueN: 0.9656859999999999\n",
      "TestedSamples: 102.0\n",
      "TrainedSamples: 177.0\n"
     ]
    }
   ],
   "source": [
    "summarizeDataframe(pd.read_csv(\"OUTPUT/camel-1.0/0.7_0.75/Random_0.7_0.75.csv\"))"
   ]
  },
  {
   "cell_type": "markdown",
   "metadata": {},
   "source": [
    "----------------------\n",
    "### Baseline validated against Camel 1.4"
   ]
  },
  {
   "cell_type": "code",
   "execution_count": 14,
   "metadata": {
    "scrolled": true
   },
   "outputs": [
    {
     "name": "stdout",
     "output_type": "stream",
     "text": [
      "Precision: nan\n",
      "Recall: 0.0\n",
      "F1: nan\n",
      "FalseP: 0.0\n",
      "FalseN: 0.166284\n",
      "TrueP: 0.0\n",
      "TrueN: 0.833716\n",
      "TestedSamples: 872.0\n",
      "TrainedSamples: 237.0\n"
     ]
    }
   ],
   "source": [
    "summarizeDataframe(pd.read_csv(\"OUTPUT/camel-1.0/0.7_1.0/Baseline_camel-1.4_0.7_1.0.csv\"))"
   ]
  },
  {
   "cell_type": "markdown",
   "metadata": {},
   "source": [
    "\n",
    "### GP with 10% validated against Camel1.6"
   ]
  },
  {
   "cell_type": "code",
   "execution_count": 15,
   "metadata": {
    "scrolled": true
   },
   "outputs": [
    {
     "name": "stdout",
     "output_type": "stream",
     "text": [
      "Precision: 0.243655\n",
      "Recall: 0.0\n",
      "F1: 0.280702\n",
      "FalseP: 0.0\n",
      "FalseN: 0.166284\n",
      "TrueP: 0.0\n",
      "TrueN: 0.833716\n",
      "TestedSamples: 872.0\n",
      "TrainedSamples: 23.0\n"
     ]
    }
   ],
   "source": [
    "summarizeDataframe(pd.read_csv(\"OUTPUT/camel-1.0/0.7_0.1/GP_camel-1.4_0.7_0.1.csv\"))"
   ]
  },
  {
   "cell_type": "markdown",
   "metadata": {},
   "source": [
    "\n",
    "### GP with 20% validated against Ant 1.6"
   ]
  },
  {
   "cell_type": "code",
   "execution_count": 16,
   "metadata": {
    "scrolled": true
   },
   "outputs": [
    {
     "name": "stdout",
     "output_type": "stream",
     "text": [
      "Precision: 0.261905\n",
      "Recall: 0.151724\n",
      "F1: 0.243542\n",
      "FalseP: 0.06651399999999999\n",
      "FalseN: 0.14105499999999999\n",
      "TrueP: 0.025228999999999998\n",
      "TrueN: 0.7672019999999999\n",
      "TestedSamples: 872.0\n",
      "TrainedSamples: 47.0\n"
     ]
    }
   ],
   "source": [
    "summarizeDataframe(pd.read_csv(\"OUTPUT/camel-1.0/0.7_0.2/GP_camel-1.4_0.7_0.2.csv\"))"
   ]
  },
  {
   "cell_type": "markdown",
   "metadata": {},
   "source": [
    "### GP with 50% data trained against Ant-1.6"
   ]
  },
  {
   "cell_type": "code",
   "execution_count": 17,
   "metadata": {},
   "outputs": [
    {
     "name": "stdout",
     "output_type": "stream",
     "text": [
      "Precision: 0.2456895\n",
      "Recall: 0.0\n",
      "F1: 0.2310145\n",
      "FalseP: 0.0\n",
      "FalseN: 0.166284\n",
      "TrueP: 0.0\n",
      "TrueN: 0.833716\n",
      "TestedSamples: 872.0\n",
      "TrainedSamples: 118.0\n"
     ]
    }
   ],
   "source": [
    "summarizeDataframe(pd.read_csv(\"OUTPUT/camel-1.0/0.7_0.5/GP_camel-1.4_0.7_0.5.csv\"))"
   ]
  },
  {
   "cell_type": "markdown",
   "metadata": {},
   "source": [
    "### GP with 75% trained against Ant 1.6"
   ]
  },
  {
   "cell_type": "code",
   "execution_count": 18,
   "metadata": {},
   "outputs": [
    {
     "name": "stdout",
     "output_type": "stream",
     "text": [
      "Precision: 0.237975\n",
      "Recall: 0.0\n",
      "F1: 0.348148\n",
      "FalseP: 0.0\n",
      "FalseN: 0.166284\n",
      "TrueP: 0.0\n",
      "TrueN: 0.833716\n",
      "TestedSamples: 872.0\n",
      "TrainedSamples: 177.0\n"
     ]
    }
   ],
   "source": [
    "summarizeDataframe(pd.read_csv(\"OUTPUT/camel-1.0/0.7_0.75/GP_camel-1.4_0.7_0.75.csv\"))"
   ]
  },
  {
   "cell_type": "markdown",
   "metadata": {},
   "source": [
    "\n",
    "### Random with 10% validated against Ant 1.6"
   ]
  },
  {
   "cell_type": "code",
   "execution_count": 19,
   "metadata": {
    "scrolled": true
   },
   "outputs": [
    {
     "name": "stdout",
     "output_type": "stream",
     "text": [
      "Precision: 0.0\n",
      "Recall: 0.0\n",
      "F1: nan\n",
      "FalseP: 0.0\n",
      "FalseN: 0.029412\n",
      "TrueP: 0.0\n",
      "TrueN: 0.9705879999999999\n",
      "TestedSamples: 102.0\n",
      "TrainedSamples: 23.0\n"
     ]
    }
   ],
   "source": [
    "summarizeDataframe(pd.read_csv(\"OUTPUT/camel-1.0/0.7_0.1/Random_0.7_0.1.csv\"))"
   ]
  },
  {
   "cell_type": "markdown",
   "metadata": {},
   "source": [
    "\n",
    "### Random with 20% validated against Ant 1.6"
   ]
  },
  {
   "cell_type": "code",
   "execution_count": 20,
   "metadata": {
    "scrolled": true
   },
   "outputs": [
    {
     "name": "stdout",
     "output_type": "stream",
     "text": [
      "Precision: 0.0\n",
      "Recall: 0.0\n",
      "F1: 0.151111\n",
      "FalseP: 0.0\n",
      "FalseN: 0.029412\n",
      "TrueP: 0.0\n",
      "TrueN: 0.960784\n",
      "TestedSamples: 102.0\n",
      "TrainedSamples: 47.0\n"
     ]
    }
   ],
   "source": [
    "summarizeDataframe(pd.read_csv(\"OUTPUT/camel-1.0/0.7_0.2/Random_0.7_0.2.csv\"))"
   ]
  },
  {
   "cell_type": "markdown",
   "metadata": {},
   "source": [
    "### Random with 50% data trained against Ant-1.6"
   ]
  },
  {
   "cell_type": "code",
   "execution_count": 21,
   "metadata": {},
   "outputs": [
    {
     "name": "stdout",
     "output_type": "stream",
     "text": [
      "Precision: 0.047619\n",
      "Recall: 0.0\n",
      "F1: 0.08\n",
      "FalseP: 0.0\n",
      "FalseN: 0.029412\n",
      "TrueP: 0.0\n",
      "TrueN: 0.9705879999999999\n",
      "TestedSamples: 102.0\n",
      "TrainedSamples: 118.0\n"
     ]
    }
   ],
   "source": [
    "summarizeDataframe(pd.read_csv(\"OUTPUT/camel-1.0/0.7_0.5/Random_0.7_0.5.csv\"))"
   ]
  },
  {
   "cell_type": "markdown",
   "metadata": {},
   "source": [
    "### Random with 75% data trained against Ant-1.6"
   ]
  },
  {
   "cell_type": "code",
   "execution_count": 22,
   "metadata": {
    "scrolled": true
   },
   "outputs": [
    {
     "name": "stdout",
     "output_type": "stream",
     "text": [
      "Precision: 0.0\n",
      "Recall: 0.0\n",
      "F1: 0.266667\n",
      "FalseP: 0.0\n",
      "FalseN: 0.029412\n",
      "TrueP: 0.0\n",
      "TrueN: 0.9656859999999999\n",
      "TestedSamples: 102.0\n",
      "TrainedSamples: 177.0\n"
     ]
    }
   ],
   "source": [
    "summarizeDataframe(pd.read_csv(\"OUTPUT/camel-1.0/0.7_0.75/Random_0.7_0.75.csv\"))"
   ]
  },
  {
   "cell_type": "code",
   "execution_count": null,
   "metadata": {
    "collapsed": true
   },
   "outputs": [],
   "source": []
  }
 ],
 "metadata": {
  "kernelspec": {
   "display_name": "Python 3",
   "language": "python",
   "name": "python3"
  },
  "language_info": {
   "codemirror_mode": {
    "name": "ipython",
    "version": 3
   },
   "file_extension": ".py",
   "mimetype": "text/x-python",
   "name": "python",
   "nbconvert_exporter": "python",
   "pygments_lexer": "ipython3",
   "version": "3.6.1"
  }
 },
 "nbformat": 4,
 "nbformat_minor": 2
}
