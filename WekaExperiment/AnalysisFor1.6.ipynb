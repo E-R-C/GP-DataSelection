{
 "cells": [
  {
   "cell_type": "code",
   "execution_count": 3,
   "metadata": {
    "collapsed": true
   },
   "outputs": [],
   "source": [
    "import pandas as pd\n",
    "import matplotlib.pyplot as plt"
   ]
  },
  {
   "cell_type": "code",
   "execution_count": 68,
   "metadata": {},
   "outputs": [],
   "source": [
    "def summarizeDataframe(df):\n",
    "    sa = [\"Precision\", \"Recall\", \"F1\", \"FalseN\", \"Samples\"]\n",
    "    sa = df.columns.values\n",
    "    for string in sa:\n",
    "        print(string + \": \" + str(df[string].median()))\n",
    "    "
   ]
  },
  {
   "cell_type": "markdown",
   "metadata": {},
   "source": [
    "# Ant 1.6 with 70% used as testing\n",
    "\n",
    "### Baseline (All data is used):"
   ]
  },
  {
   "cell_type": "code",
   "execution_count": 85,
   "metadata": {},
   "outputs": [
    {
     "name": "stdout",
     "output_type": "stream",
     "text": [
      "Precision: 0.632997\n",
      "Recall: 0.654509\n",
      "F1: 0.6427885\n",
      "FalseP: 0.10377399999999999\n",
      "FalseN: 0.089623\n",
      "TrueP: 0.17924500000000002\n",
      "TrueN: 0.622642\n",
      "TestedSamples: 106.0\n",
      "TrainedSamples: 245.0\n"
     ]
    }
   ],
   "source": [
    "df = pd.read_csv(\"OUTPUT/ant-1.6/0.7_1.0/Baseline_0.7_1.0.csv\")\n",
    "summarizeDataframe(df)"
   ]
  },
  {
   "cell_type": "markdown",
   "metadata": {},
   "source": [
    "### GP with 10% data trained"
   ]
  },
  {
   "cell_type": "code",
   "execution_count": 101,
   "metadata": {},
   "outputs": [
    {
     "name": "stdout",
     "output_type": "stream",
     "text": [
      "Precision: 0.34093300000000004\n",
      "Recall: 0.916264\n",
      "F1: 0.4765405\n",
      "FalseP: 0.3726415\n",
      "FalseN: 0.018868\n",
      "TrueP: 0.23584899999999998\n",
      "TrueN: 0.3537735\n",
      "TestedSamples: 106.0\n",
      "TrainedSamples: 24.0\n"
     ]
    }
   ],
   "source": [
    "summarizeDataframe(pd.read_csv(\"OUTPUT/ant-1.6/0.7_0.1/GP_0.7_0.1.csv\"))"
   ]
  },
  {
   "cell_type": "markdown",
   "metadata": {},
   "source": [
    "### GP with 20% data trained"
   ]
  },
  {
   "cell_type": "code",
   "execution_count": 86,
   "metadata": {},
   "outputs": [
    {
     "name": "stdout",
     "output_type": "stream",
     "text": [
      "Precision: 0.460588\n",
      "Recall: 0.8526885\n",
      "F1: 0.5288025000000001\n",
      "FalseP: 0.283019\n",
      "FalseN: 0.042453\n",
      "TrueP: 0.207547\n",
      "TrueN: 0.466981\n",
      "TestedSamples: 106.0\n",
      "TrainedSamples: 49.0\n"
     ]
    }
   ],
   "source": [
    "summarizeDataframe(pd.read_csv(\"OUTPUT/ant-1.6/0.7_0.2/GP_0.7_0.2.csv\"))"
   ]
  },
  {
   "cell_type": "markdown",
   "metadata": {},
   "source": [
    "### GP with 35% data trained"
   ]
  },
  {
   "cell_type": "code",
   "execution_count": 87,
   "metadata": {},
   "outputs": [
    {
     "name": "stdout",
     "output_type": "stream",
     "text": [
      "Precision: 0.6282895\n",
      "Recall: 0.6291665\n",
      "F1: 0.6122449999999999\n",
      "FalseP: 0.089623\n",
      "FalseN: 0.099057\n",
      "TrueP: 0.17452800000000002\n",
      "TrueN: 0.636792\n",
      "TestedSamples: 106.0\n",
      "TrainedSamples: 85.0\n"
     ]
    }
   ],
   "source": [
    "summarizeDataframe(pd.read_csv(\"OUTPUT/ant-1.6/0.7_0.35/GP_0.7_0.35.csv\"))"
   ]
  },
  {
   "cell_type": "markdown",
   "metadata": {},
   "source": [
    "### GP with 50% data trained"
   ]
  },
  {
   "cell_type": "code",
   "execution_count": 88,
   "metadata": {},
   "outputs": [
    {
     "name": "stdout",
     "output_type": "stream",
     "text": [
      "Precision: 0.6515155\n",
      "Recall: 0.6213235\n",
      "F1: 0.638889\n",
      "FalseP: 0.084906\n",
      "FalseN: 0.09434\n",
      "TrueP: 0.165094\n",
      "TrueN: 0.641509\n",
      "TestedSamples: 106.0\n",
      "TrainedSamples: 122.0\n"
     ]
    }
   ],
   "source": [
    "df = pd.read_csv(\"OUTPUT/ant-1.6/0.7_0.5/GP_0.7_0.5.csv\")\n",
    "summarizeDataframe(df)"
   ]
  },
  {
   "cell_type": "markdown",
   "metadata": {},
   "source": [
    "### GP with 75% data trained"
   ]
  },
  {
   "cell_type": "code",
   "execution_count": 89,
   "metadata": {},
   "outputs": [
    {
     "name": "stdout",
     "output_type": "stream",
     "text": [
      "Precision: 0.6348485\n",
      "Recall: 0.6530100000000001\n",
      "F1: 0.6490145\n",
      "FalseP: 0.089623\n",
      "FalseN: 0.09434\n",
      "TrueP: 0.17924500000000002\n",
      "TrueN: 0.641509\n",
      "TestedSamples: 106.0\n",
      "TrainedSamples: 183.0\n"
     ]
    }
   ],
   "source": [
    "summarizeDataframe(pd.read_csv(\"OUTPUT/ant-1.6/0.7_0.75/GP_0.7_0.75.csv\"))"
   ]
  },
  {
   "cell_type": "markdown",
   "metadata": {},
   "source": [
    "### Random with 10% data trained"
   ]
  },
  {
   "cell_type": "code",
   "execution_count": 106,
   "metadata": {},
   "outputs": [
    {
     "name": "stdout",
     "output_type": "stream",
     "text": [
      "Precision: 0.311321\n",
      "Recall: 0.7009925\n",
      "F1: 0.41791000000000006\n",
      "FalseP: 0.13679249999999998\n",
      "FalseN: 0.080189\n",
      "TrueP: 0.18867899999999999\n",
      "TrueN: 0.575472\n",
      "TestedSamples: 106.0\n",
      "TrainedSamples: 24.0\n"
     ]
    }
   ],
   "source": [
    "summarizeDataframe(pd.read_csv(\"OUTPUT/ant-1.6/0.7_0.1/Random_0.7_0.1.csv\"))"
   ]
  },
  {
   "cell_type": "markdown",
   "metadata": {},
   "source": [
    "### Random with 20 % data trained"
   ]
  },
  {
   "cell_type": "code",
   "execution_count": 107,
   "metadata": {},
   "outputs": [
    {
     "name": "stdout",
     "output_type": "stream",
     "text": [
      "Precision: 0.42222200000000004\n",
      "Recall: 0.704094\n",
      "F1: 0.555556\n",
      "FalseP: 0.212264\n",
      "FalseN: 0.080189\n",
      "TrueP: 0.20283\n",
      "TrueN: 0.523585\n",
      "TestedSamples: 106.0\n",
      "TrainedSamples: 49.0\n"
     ]
    }
   ],
   "source": [
    "summarizeDataframe(pd.read_csv(\"OUTPUT/ant-1.6/0.7_0.2/Random_0.7_0.2.csv\"))"
   ]
  },
  {
   "cell_type": "markdown",
   "metadata": {},
   "source": [
    "### Random with 35% data trained"
   ]
  },
  {
   "cell_type": "code",
   "execution_count": 90,
   "metadata": {},
   "outputs": [
    {
     "name": "stdout",
     "output_type": "stream",
     "text": [
      "Precision: 0.578947\n",
      "Recall: 0.6394230000000001\n",
      "F1: 0.628571\n",
      "FalseP: 0.10377399999999999\n",
      "FalseN: 0.09434\n",
      "TrueP: 0.174528\n",
      "TrueN: 0.6273585\n",
      "TestedSamples: 106.0\n",
      "TrainedSamples: 85.0\n"
     ]
    }
   ],
   "source": [
    "summarizeDataframe(pd.read_csv(\"OUTPUT/ant-1.6/0.7_0.35/Random_0.7_0.35.csv\"))"
   ]
  },
  {
   "cell_type": "markdown",
   "metadata": {},
   "source": [
    "### Random with 50% data trained"
   ]
  },
  {
   "cell_type": "code",
   "execution_count": 91,
   "metadata": {},
   "outputs": [
    {
     "name": "stdout",
     "output_type": "stream",
     "text": [
      "Precision: 0.636364\n",
      "Recall: 0.644009\n",
      "F1: 0.636364\n",
      "FalseP: 0.10377399999999999\n",
      "FalseN: 0.099057\n",
      "TrueP: 0.179245\n",
      "TrueN: 0.622642\n",
      "TestedSamples: 106.0\n",
      "TrainedSamples: 122.0\n"
     ]
    }
   ],
   "source": [
    "df = pd.read_csv(\"OUTPUT/ant-1.6/0.7_0.5/Random_0.7_0.5.csv\")\n",
    "summarizeDataframe(df)"
   ]
  },
  {
   "cell_type": "markdown",
   "metadata": {},
   "source": [
    "### Random with 75% data trained"
   ]
  },
  {
   "cell_type": "code",
   "execution_count": 92,
   "metadata": {},
   "outputs": [
    {
     "name": "stdout",
     "output_type": "stream",
     "text": [
      "Precision: 0.638182\n",
      "Recall: 0.6609195\n",
      "F1: 0.6434625\n",
      "FalseP: 0.10377399999999999\n",
      "FalseN: 0.089623\n",
      "TrueP: 0.18867899999999999\n",
      "TrueN: 0.622642\n",
      "TestedSamples: 106.0\n",
      "TrainedSamples: 183.0\n"
     ]
    }
   ],
   "source": [
    "summarizeDataframe(pd.read_csv(\"OUTPUT/ant-1.6/0.7_0.75/Random_0.7_0.75.csv\"))"
   ]
  },
  {
   "cell_type": "markdown",
   "metadata": {},
   "source": [
    "----------------------\n",
    "### Baseline validated against Ant 1.7"
   ]
  },
  {
   "cell_type": "code",
   "execution_count": 93,
   "metadata": {
    "scrolled": true
   },
   "outputs": [
    {
     "name": "stdout",
     "output_type": "stream",
     "text": [
      "Precision: 0.593939\n",
      "Recall: 0.5903609999999999\n",
      "F1: 0.592145\n",
      "FalseP: 0.089933\n",
      "FalseN: 0.091275\n",
      "TrueP: 0.131544\n",
      "TrueN: 0.687248\n",
      "TestedSamples: 745.0\n",
      "TrainedSamples: 245.0\n"
     ]
    }
   ],
   "source": [
    "summarizeDataframe(pd.read_csv(\"OUTPUT/ant-1.6/0.7_1.0/Baseline_ant-1.7_0.7_1.0.csv\"))"
   ]
  },
  {
   "cell_type": "markdown",
   "metadata": {},
   "source": [
    "\n",
    "### GP with 10% validated against Ant 1.7"
   ]
  },
  {
   "cell_type": "code",
   "execution_count": 103,
   "metadata": {
    "scrolled": true
   },
   "outputs": [
    {
     "name": "stdout",
     "output_type": "stream",
     "text": [
      "Precision: 0.260649\n",
      "Recall: 0.885542\n",
      "F1: 0.39833450000000004\n",
      "FalseP: 0.42550350000000003\n",
      "FalseN: 0.025503500000000002\n",
      "TrueP: 0.1973155\n",
      "TrueN: 0.35167800000000005\n",
      "TestedSamples: 745.0\n",
      "TrainedSamples: 24.0\n"
     ]
    }
   ],
   "source": [
    "summarizeDataframe(pd.read_csv(\"OUTPUT/ant-1.6/0.7_0.1/GP_ant-1.7_0.7_0.1.csv\"))"
   ]
  },
  {
   "cell_type": "markdown",
   "metadata": {},
   "source": [
    "\n",
    "### GP with 20% validated against Ant 1.7"
   ]
  },
  {
   "cell_type": "code",
   "execution_count": 102,
   "metadata": {
    "scrolled": true
   },
   "outputs": [
    {
     "name": "stdout",
     "output_type": "stream",
     "text": [
      "Precision: 0.40870100000000004\n",
      "Recall: 0.8373495\n",
      "F1: 0.4537005\n",
      "FalseP: 0.27516799999999997\n",
      "FalseN: 0.036241499999999996\n",
      "TrueP: 0.1865775\n",
      "TrueN: 0.5020135\n",
      "TestedSamples: 745.0\n",
      "TrainedSamples: 49.0\n"
     ]
    }
   ],
   "source": [
    "summarizeDataframe(pd.read_csv(\"OUTPUT/ant-1.6/0.7_0.2/GP_ant-1.7_0.7_0.2.csv\"))"
   ]
  },
  {
   "cell_type": "markdown",
   "metadata": {},
   "source": [
    "### GP with 50% data trained against Ant-1.7"
   ]
  },
  {
   "cell_type": "code",
   "execution_count": 94,
   "metadata": {},
   "outputs": [
    {
     "name": "stdout",
     "output_type": "stream",
     "text": [
      "Precision: 0.637037\n",
      "Recall: 0.518072\n",
      "F1: 0.571429\n",
      "FalseP: 0.065772\n",
      "FalseN: 0.10738299999999999\n",
      "TrueP: 0.11543599999999998\n",
      "TrueN: 0.7114090000000001\n",
      "TestedSamples: 745.0\n",
      "TrainedSamples: 122.0\n"
     ]
    }
   ],
   "source": [
    "summarizeDataframe(pd.read_csv(\"OUTPUT/ant-1.6/0.7_0.5/GP_ant-1.7_0.7_0.5.csv\"))"
   ]
  },
  {
   "cell_type": "markdown",
   "metadata": {},
   "source": [
    "### GP with 75% trained against Ant-1.7"
   ]
  },
  {
   "cell_type": "code",
   "execution_count": 95,
   "metadata": {},
   "outputs": [
    {
     "name": "stdout",
     "output_type": "stream",
     "text": [
      "Precision: 0.637037\n",
      "Recall: 0.518072\n",
      "F1: 0.571429\n",
      "FalseP: 0.065772\n",
      "FalseN: 0.10738299999999999\n",
      "TrueP: 0.11543599999999998\n",
      "TrueN: 0.7114090000000001\n",
      "TestedSamples: 745.0\n",
      "TrainedSamples: 183.0\n"
     ]
    }
   ],
   "source": [
    "summarizeDataframe(pd.read_csv(\"OUTPUT/ant-1.6/0.7_0.75/GP_ant-1.7_0.7_0.75.csv\"))"
   ]
  },
  {
   "cell_type": "markdown",
   "metadata": {},
   "source": [
    "\n",
    "### Random with 10% validated against Ant 1.7"
   ]
  },
  {
   "cell_type": "code",
   "execution_count": 104,
   "metadata": {
    "scrolled": true
   },
   "outputs": [
    {
     "name": "stdout",
     "output_type": "stream",
     "text": [
      "Precision: 0.22281900000000002\n",
      "Recall: 0.695783\n",
      "F1: 0.364435\n",
      "FalseP: 0.1738255\n",
      "FalseN: 0.06778500000000001\n",
      "TrueP: 0.155034\n",
      "TrueN: 0.6033554999999999\n",
      "TestedSamples: 745.0\n",
      "TrainedSamples: 24.0\n"
     ]
    }
   ],
   "source": [
    "summarizeDataframe(pd.read_csv(\"OUTPUT/ant-1.6/0.7_0.1/Random_ant-1.7_0.7_0.1.csv\"))"
   ]
  },
  {
   "cell_type": "markdown",
   "metadata": {},
   "source": [
    "\n",
    "### Random with 20% validated against Ant 1.7"
   ]
  },
  {
   "cell_type": "code",
   "execution_count": 105,
   "metadata": {
    "scrolled": true
   },
   "outputs": [
    {
     "name": "stdout",
     "output_type": "stream",
     "text": [
      "Precision: 0.395543\n",
      "Recall: 0.75\n",
      "F1: 0.525667\n",
      "FalseP: 0.244295\n",
      "FalseN: 0.05570449999999999\n",
      "TrueP: 0.1671145\n",
      "TrueN: 0.532886\n",
      "TestedSamples: 745.0\n",
      "TrainedSamples: 49.0\n"
     ]
    }
   ],
   "source": [
    "summarizeDataframe(pd.read_csv(\"OUTPUT/ant-1.6/0.7_0.2/Random_ant-1.7_0.7_0.2.csv\"))"
   ]
  },
  {
   "cell_type": "markdown",
   "metadata": {},
   "source": [
    "### Random with 50% data trained against Ant-1.7"
   ]
  },
  {
   "cell_type": "code",
   "execution_count": 96,
   "metadata": {},
   "outputs": [
    {
     "name": "stdout",
     "output_type": "stream",
     "text": [
      "Precision: 0.593939\n",
      "Recall: 0.5873489999999999\n",
      "F1: 0.571429\n",
      "FalseP: 0.085235\n",
      "FalseN: 0.091946\n",
      "TrueP: 0.1308725\n",
      "TrueN: 0.691946\n",
      "TestedSamples: 745.0\n",
      "TrainedSamples: 122.0\n"
     ]
    }
   ],
   "source": [
    "summarizeDataframe(pd.read_csv(\"OUTPUT/ant-1.6/0.7_0.5/Random_ant-1.7_0.7_0.5.csv\"))"
   ]
  },
  {
   "cell_type": "markdown",
   "metadata": {},
   "source": [
    "### Random with 75% data trained against Ant-1.7"
   ]
  },
  {
   "cell_type": "code",
   "execution_count": 97,
   "metadata": {
    "scrolled": true
   },
   "outputs": [
    {
     "name": "stdout",
     "output_type": "stream",
     "text": [
      "Precision: 0.593939\n",
      "Recall: 0.5903609999999999\n",
      "F1: 0.5918924999999999\n",
      "FalseP: 0.089933\n",
      "FalseN: 0.091275\n",
      "TrueP: 0.131544\n",
      "TrueN: 0.687248\n",
      "TestedSamples: 745.0\n",
      "TrainedSamples: 183.0\n"
     ]
    }
   ],
   "source": [
    "summarizeDataframe(pd.read_csv(\"OUTPUT/ant-1.6/0.7_0.75/Random_ant-1.7_0.7_0.75.csv\"))"
   ]
  },
  {
   "cell_type": "code",
   "execution_count": null,
   "metadata": {
    "collapsed": true
   },
   "outputs": [],
   "source": []
  }
 ],
 "metadata": {
  "kernelspec": {
   "display_name": "Python 3",
   "language": "python",
   "name": "python3"
  },
  "language_info": {
   "codemirror_mode": {
    "name": "ipython",
    "version": 3
   },
   "file_extension": ".py",
   "mimetype": "text/x-python",
   "name": "python",
   "nbconvert_exporter": "python",
   "pygments_lexer": "ipython3",
   "version": "3.6.1"
  }
 },
 "nbformat": 4,
 "nbformat_minor": 2
}
