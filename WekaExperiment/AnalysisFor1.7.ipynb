{
 "cells": [
  {
   "cell_type": "code",
   "execution_count": 1,
   "metadata": {
    "collapsed": true
   },
   "outputs": [],
   "source": [
    "import pandas as pd\n",
    "import matplotlib.pyplot as plt"
   ]
  },
  {
   "cell_type": "code",
   "execution_count": 2,
   "metadata": {
    "collapsed": true
   },
   "outputs": [],
   "source": [
    "def summarizeDataframe(df):\n",
    "    sa = df.columns.values\n",
    "    for string in df.columns.values:\n",
    "        print(string + \": \" + str(df[string].median()))\n",
    "    "
   ]
  },
  {
   "cell_type": "markdown",
   "metadata": {},
   "source": [
    "# Ant 1.7 with 70% used as testing\n",
    "\n",
    "### Baseline (All data is used):"
   ]
  },
  {
   "cell_type": "code",
   "execution_count": 36,
   "metadata": {},
   "outputs": [
    {
     "name": "stdout",
     "output_type": "stream",
     "text": [
      "Precision: 0.5905615\n",
      "Recall: 0.5809145\n",
      "F1: 0.578947\n",
      "FalseP: 0.089286\n",
      "FalseN: 0.09375\n",
      "TrueP: 0.133929\n",
      "TrueN: 0.689732\n",
      "TestedSamples: 224.0\n",
      "TrainedSamples: 521.0\n"
     ]
    }
   ],
   "source": [
    "df = pd.read_csv(\"OUTPUT/ant-1.7/0.7_1.0/Baseline_0.7_1.0.csv\")\n",
    "summarizeDataframe(df)"
   ]
  },
  {
   "cell_type": "markdown",
   "metadata": {},
   "source": [
    "### GP with 10% data trained"
   ]
  },
  {
   "cell_type": "code",
   "execution_count": 4,
   "metadata": {},
   "outputs": [
    {
     "name": "stdout",
     "output_type": "stream",
     "text": [
      "Precision: 0.37396050000000003\n",
      "Recall: 0.80602\n",
      "F1: 0.464652\n",
      "FalseP: 0.238839\n",
      "FalseN: 0.044643\n",
      "TrueP: 0.171875\n",
      "TrueN: 0.5491075\n",
      "TestedSamples: 224.0\n",
      "TrainedSamples: 52.0\n"
     ]
    }
   ],
   "source": [
    "summarizeDataframe(pd.read_csv(\"OUTPUT/ant-1.7/0.7_0.1/GP_0.7_0.1.csv\"))"
   ]
  },
  {
   "cell_type": "markdown",
   "metadata": {},
   "source": [
    "### GP with 20% data trained"
   ]
  },
  {
   "cell_type": "code",
   "execution_count": 5,
   "metadata": {},
   "outputs": [
    {
     "name": "stdout",
     "output_type": "stream",
     "text": [
      "Precision: 0.6107994999999999\n",
      "Recall: 0.533382\n",
      "F1: 0.5565205\n",
      "FalseP: 0.064732\n",
      "FalseN: 0.107143\n",
      "TrueP: 0.1160715\n",
      "TrueN: 0.7120535\n",
      "TestedSamples: 224.0\n",
      "TrainedSamples: 104.0\n"
     ]
    }
   ],
   "source": [
    "summarizeDataframe(pd.read_csv(\"OUTPUT/ant-1.7/0.7_0.2/GP_0.7_0.2.csv\"))"
   ]
  },
  {
   "cell_type": "markdown",
   "metadata": {},
   "source": [
    "### GP with 35% data trained"
   ]
  },
  {
   "cell_type": "code",
   "execution_count": 6,
   "metadata": {},
   "outputs": [
    {
     "name": "stdout",
     "output_type": "stream",
     "text": [
      "Precision: 0.601967\n",
      "Recall: 0.5245675000000001\n",
      "F1: 0.5326655\n",
      "FalseP: 0.07366099999999999\n",
      "FalseN: 0.109375\n",
      "TrueP: 0.1160715\n",
      "TrueN: 0.707589\n",
      "TestedSamples: 224.0\n",
      "TrainedSamples: 182.0\n"
     ]
    }
   ],
   "source": [
    "summarizeDataframe(pd.read_csv(\"OUTPUT/ant-1.7/0.7_0.35/GP_0.7_0.35.csv\"))"
   ]
  },
  {
   "cell_type": "markdown",
   "metadata": {},
   "source": [
    "### GP with 50% data trained"
   ]
  },
  {
   "cell_type": "code",
   "execution_count": 7,
   "metadata": {},
   "outputs": [
    {
     "name": "stdout",
     "output_type": "stream",
     "text": [
      "Precision: 0.6146929999999999\n",
      "Recall: 0.5155185\n",
      "F1: 0.5393939999999999\n",
      "FalseP: 0.0625\n",
      "FalseN: 0.111607\n",
      "TrueP: 0.111607\n",
      "TrueN: 0.716518\n",
      "TestedSamples: 224.0\n",
      "TrainedSamples: 260.0\n"
     ]
    }
   ],
   "source": [
    "df = pd.read_csv(\"OUTPUT/ant-1.7/0.7_0.5/GP_0.7_0.5.csv\")\n",
    "summarizeDataframe(df)"
   ]
  },
  {
   "cell_type": "markdown",
   "metadata": {},
   "source": [
    "### GP with 75% data trained"
   ]
  },
  {
   "cell_type": "code",
   "execution_count": 8,
   "metadata": {},
   "outputs": [
    {
     "name": "stdout",
     "output_type": "stream",
     "text": [
      "Precision: 0.608696\n",
      "Recall: 0.5471385\n",
      "F1: 0.569957\n",
      "FalseP: 0.07589299999999999\n",
      "FalseN: 0.10267899999999999\n",
      "TrueP: 0.125\n",
      "TrueN: 0.700893\n",
      "TestedSamples: 224.0\n",
      "TrainedSamples: 390.0\n"
     ]
    }
   ],
   "source": [
    "summarizeDataframe(pd.read_csv(\"OUTPUT/ant-1.7/0.7_0.75/GP_0.7_0.75.csv\"))"
   ]
  },
  {
   "cell_type": "markdown",
   "metadata": {},
   "source": [
    "### Random with 10% data trained"
   ]
  },
  {
   "cell_type": "code",
   "execution_count": 9,
   "metadata": {},
   "outputs": [
    {
     "name": "stdout",
     "output_type": "stream",
     "text": [
      "Precision: 0.342105\n",
      "Recall: 0.656154\n",
      "F1: 0.4905685\n",
      "FalseP: 0.11607100000000001\n",
      "FalseN: 0.078125\n",
      "TrueP: 0.1473215\n",
      "TrueN: 0.6495535\n",
      "TestedSamples: 224.0\n",
      "TrainedSamples: 52.0\n"
     ]
    }
   ],
   "source": [
    "summarizeDataframe(pd.read_csv(\"OUTPUT/ant-1.7/0.7_0.1/Random_0.7_0.1.csv\"))"
   ]
  },
  {
   "cell_type": "markdown",
   "metadata": {},
   "source": [
    "### Random with 20 % data trained"
   ]
  },
  {
   "cell_type": "code",
   "execution_count": 10,
   "metadata": {},
   "outputs": [
    {
     "name": "stdout",
     "output_type": "stream",
     "text": [
      "Precision: 0.49209949999999997\n",
      "Recall: 0.5781675\n",
      "F1: 0.543914\n",
      "FalseP: 0.104911\n",
      "FalseN: 0.0870535\n",
      "TrueP: 0.127232\n",
      "TrueN: 0.6830355\n",
      "TestedSamples: 224.0\n",
      "TrainedSamples: 104.0\n"
     ]
    }
   ],
   "source": [
    "summarizeDataframe(pd.read_csv(\"OUTPUT/ant-1.7/0.7_0.2/Random_0.7_0.2.csv\"))"
   ]
  },
  {
   "cell_type": "markdown",
   "metadata": {},
   "source": [
    "### Random with 35% data trained"
   ]
  },
  {
   "cell_type": "code",
   "execution_count": 11,
   "metadata": {},
   "outputs": [
    {
     "name": "stdout",
     "output_type": "stream",
     "text": [
      "Precision: 0.501999\n",
      "Recall: 0.6122449999999999\n",
      "F1: 0.5551619999999999\n",
      "FalseP: 0.098214\n",
      "FalseN: 0.08258900000000001\n",
      "TrueP: 0.138393\n",
      "TrueN: 0.6607145\n",
      "TestedSamples: 224.0\n",
      "TrainedSamples: 182.0\n"
     ]
    }
   ],
   "source": [
    "summarizeDataframe(pd.read_csv(\"OUTPUT/ant-1.7/0.7_0.35/Random_0.7_0.35.csv\"))"
   ]
  },
  {
   "cell_type": "markdown",
   "metadata": {},
   "source": [
    "### Random with 50% data trained"
   ]
  },
  {
   "cell_type": "code",
   "execution_count": 12,
   "metadata": {},
   "outputs": [
    {
     "name": "stdout",
     "output_type": "stream",
     "text": [
      "Precision: 0.5398430000000001\n",
      "Recall: 0.5921945\n",
      "F1: 0.553585\n",
      "FalseP: 0.10714299999999999\n",
      "FalseN: 0.089286\n",
      "TrueP: 0.1316965\n",
      "TrueN: 0.667411\n",
      "TestedSamples: 224.0\n",
      "TrainedSamples: 260.0\n"
     ]
    }
   ],
   "source": [
    "df = pd.read_csv(\"OUTPUT/ant-1.7/0.7_0.5/Random_0.7_0.5.csv\")\n",
    "summarizeDataframe(df)"
   ]
  },
  {
   "cell_type": "markdown",
   "metadata": {},
   "source": [
    "### Random with 75% data trained"
   ]
  },
  {
   "cell_type": "code",
   "execution_count": 13,
   "metadata": {},
   "outputs": [
    {
     "name": "stdout",
     "output_type": "stream",
     "text": [
      "Precision: 0.5680805\n",
      "Recall: 0.6061224999999999\n",
      "F1: 0.574713\n",
      "FalseP: 0.091518\n",
      "FalseN: 0.08482100000000001\n",
      "TrueP: 0.136161\n",
      "TrueN: 0.685268\n",
      "TestedSamples: 224.0\n",
      "TrainedSamples: 390.0\n"
     ]
    }
   ],
   "source": [
    "summarizeDataframe(pd.read_csv(\"OUTPUT/ant-1.7/0.7_0.75/Random_0.7_0.75.csv\"))"
   ]
  },
  {
   "cell_type": "markdown",
   "metadata": {},
   "source": [
    "----------------------\n",
    "### Baseline validated against Ant 1.6"
   ]
  },
  {
   "cell_type": "code",
   "execution_count": 14,
   "metadata": {
    "scrolled": true
   },
   "outputs": [
    {
     "name": "stdout",
     "output_type": "stream",
     "text": [
      "Precision: 0.703704\n",
      "Recall: 0.608696\n",
      "F1: 0.646883\n",
      "FalseP: 0.06837599999999999\n",
      "FalseN: 0.10256400000000002\n",
      "TrueP: 0.15954400000000002\n",
      "TrueN: 0.669516\n",
      "TestedSamples: 351.0\n",
      "TrainedSamples: 521.0\n"
     ]
    }
   ],
   "source": [
    "summarizeDataframe(pd.read_csv(\"OUTPUT/ant-1.7/0.7_1.0/Baseline_ant-1.6_0.7_1.0.csv\"))"
   ]
  },
  {
   "cell_type": "markdown",
   "metadata": {},
   "source": [
    "\n",
    "### GP with 10% validated against Ant 1.6"
   ]
  },
  {
   "cell_type": "code",
   "execution_count": 15,
   "metadata": {
    "scrolled": true
   },
   "outputs": [
    {
     "name": "stdout",
     "output_type": "stream",
     "text": [
      "Precision: 0.47786850000000003\n",
      "Recall: 0.8043480000000001\n",
      "F1: 0.5099834999999999\n",
      "FalseP: 0.216524\n",
      "FalseN: 0.051281999999999994\n",
      "TrueP: 0.210826\n",
      "TrueN: 0.5213679999999999\n",
      "TestedSamples: 351.0\n",
      "TrainedSamples: 52.0\n"
     ]
    }
   ],
   "source": [
    "summarizeDataframe(pd.read_csv(\"OUTPUT/ant-1.7/0.7_0.1/GP_ant-1.6_0.7_0.1.csv\"))"
   ]
  },
  {
   "cell_type": "markdown",
   "metadata": {},
   "source": [
    "\n",
    "### GP with 20% validated against Ant 1.6"
   ]
  },
  {
   "cell_type": "code",
   "execution_count": 16,
   "metadata": {
    "scrolled": true
   },
   "outputs": [
    {
     "name": "stdout",
     "output_type": "stream",
     "text": [
      "Precision: 0.69697\n",
      "Recall: 0.5\n",
      "F1: 0.582278\n",
      "FalseP: 0.056979999999999996\n",
      "FalseN: 0.131054\n",
      "TrueP: 0.131054\n",
      "TrueN: 0.680912\n",
      "TestedSamples: 351.0\n",
      "TrainedSamples: 104.0\n"
     ]
    }
   ],
   "source": [
    "summarizeDataframe(pd.read_csv(\"OUTPUT/ant-1.7/0.7_0.2/GP_ant-1.6_0.7_0.2.csv\"))"
   ]
  },
  {
   "cell_type": "markdown",
   "metadata": {},
   "source": [
    "### GP with 50% data trained against Ant-1.6"
   ]
  },
  {
   "cell_type": "code",
   "execution_count": 17,
   "metadata": {},
   "outputs": [
    {
     "name": "stdout",
     "output_type": "stream",
     "text": [
      "Precision: 0.69697\n",
      "Recall: 0.5163044999999999\n",
      "F1: 0.582278\n",
      "FalseP: 0.0584045\n",
      "FalseN: 0.1267805\n",
      "TrueP: 0.1353275\n",
      "TrueN: 0.6794875\n",
      "TestedSamples: 351.0\n",
      "TrainedSamples: 260.0\n"
     ]
    }
   ],
   "source": [
    "summarizeDataframe(pd.read_csv(\"OUTPUT/ant-1.7/0.7_0.5/GP_ant-1.6_0.7_0.5.csv\"))"
   ]
  },
  {
   "cell_type": "markdown",
   "metadata": {},
   "source": [
    "### GP with 75% trained against Ant 1.6"
   ]
  },
  {
   "cell_type": "code",
   "execution_count": 18,
   "metadata": {},
   "outputs": [
    {
     "name": "stdout",
     "output_type": "stream",
     "text": [
      "Precision: 0.708333\n",
      "Recall: 0.554348\n",
      "F1: 0.621951\n",
      "FalseP: 0.05982899999999999\n",
      "FalseN: 0.116809\n",
      "TrueP: 0.145299\n",
      "TrueN: 0.678063\n",
      "TestedSamples: 351.0\n",
      "TrainedSamples: 390.0\n"
     ]
    }
   ],
   "source": [
    "summarizeDataframe(pd.read_csv(\"OUTPUT/ant-1.7/0.7_0.75/GP_ant-1.6_0.7_0.75.csv\"))"
   ]
  },
  {
   "cell_type": "markdown",
   "metadata": {},
   "source": [
    "\n",
    "### Random with 10% validated against Ant 1.6"
   ]
  },
  {
   "cell_type": "code",
   "execution_count": 19,
   "metadata": {
    "scrolled": true
   },
   "outputs": [
    {
     "name": "stdout",
     "output_type": "stream",
     "text": [
      "Precision: 0.466508\n",
      "Recall: 0.625\n",
      "F1: 0.5500375\n",
      "FalseP: 0.10541299999999999\n",
      "FalseN: 0.0982905\n",
      "TrueP: 0.1638175\n",
      "TrueN: 0.632479\n",
      "TestedSamples: 351.0\n",
      "TrainedSamples: 52.0\n"
     ]
    }
   ],
   "source": [
    "summarizeDataframe(pd.read_csv(\"OUTPUT/ant-1.7/0.7_0.1/Random_ant-1.6_0.7_0.1.csv\"))"
   ]
  },
  {
   "cell_type": "markdown",
   "metadata": {},
   "source": [
    "\n",
    "### Random with 20% validated against Ant 1.6"
   ]
  },
  {
   "cell_type": "code",
   "execution_count": 20,
   "metadata": {
    "scrolled": true
   },
   "outputs": [
    {
     "name": "stdout",
     "output_type": "stream",
     "text": [
      "Precision: 0.6258334999999999\n",
      "Recall: 0.6358695\n",
      "F1: 0.604938\n",
      "FalseP: 0.0868945\n",
      "FalseN: 0.0954415\n",
      "TrueP: 0.1666665\n",
      "TrueN: 0.6509974999999999\n",
      "TestedSamples: 351.0\n",
      "TrainedSamples: 104.0\n"
     ]
    }
   ],
   "source": [
    "summarizeDataframe(pd.read_csv(\"OUTPUT/ant-1.7/0.7_0.2/Random_ant-1.6_0.7_0.2.csv\"))"
   ]
  },
  {
   "cell_type": "markdown",
   "metadata": {},
   "source": [
    "### Random with 50% data trained against Ant-1.6"
   ]
  },
  {
   "cell_type": "code",
   "execution_count": 21,
   "metadata": {},
   "outputs": [
    {
     "name": "stdout",
     "output_type": "stream",
     "text": [
      "Precision: 0.62\n",
      "Recall: 0.6413045\n",
      "F1: 0.640269\n",
      "FalseP: 0.099715\n",
      "FalseN: 0.09401699999999999\n",
      "TrueP: 0.168091\n",
      "TrueN: 0.638177\n",
      "TestedSamples: 351.0\n",
      "TrainedSamples: 260.0\n"
     ]
    }
   ],
   "source": [
    "summarizeDataframe(pd.read_csv(\"OUTPUT/ant-1.7/0.7_0.5/Random_ant-1.6_0.7_0.5.csv\"))"
   ]
  },
  {
   "cell_type": "markdown",
   "metadata": {},
   "source": [
    "### Random with 75% data trained against Ant-1.6"
   ]
  },
  {
   "cell_type": "code",
   "execution_count": 22,
   "metadata": {
    "scrolled": true
   },
   "outputs": [
    {
     "name": "stdout",
     "output_type": "stream",
     "text": [
      "Precision: 0.6522509999999999\n",
      "Recall: 0.652174\n",
      "F1: 0.6467069999999999\n",
      "FalseP: 0.091168\n",
      "FalseN: 0.091168\n",
      "TrueP: 0.17094\n",
      "TrueN: 0.646724\n",
      "TestedSamples: 351.0\n",
      "TrainedSamples: 390.0\n"
     ]
    }
   ],
   "source": [
    "summarizeDataframe(pd.read_csv(\"OUTPUT/ant-1.7/0.7_0.75/Random_ant-1.6_0.7_0.75.csv\"))"
   ]
  },
  {
   "cell_type": "code",
   "execution_count": null,
   "metadata": {
    "collapsed": true
   },
   "outputs": [],
   "source": []
  }
 ],
 "metadata": {
  "kernelspec": {
   "display_name": "Python 3",
   "language": "python",
   "name": "python3"
  },
  "language_info": {
   "codemirror_mode": {
    "name": "ipython",
    "version": 3
   },
   "file_extension": ".py",
   "mimetype": "text/x-python",
   "name": "python",
   "nbconvert_exporter": "python",
   "pygments_lexer": "ipython3",
   "version": "3.6.1"
  }
 },
 "nbformat": 4,
 "nbformat_minor": 2
}
